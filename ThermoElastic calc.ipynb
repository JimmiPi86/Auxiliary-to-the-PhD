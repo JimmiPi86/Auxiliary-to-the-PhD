{
 "cells": [
  {
   "cell_type": "markdown",
   "id": "0b43fda1",
   "metadata": {},
   "source": [
    "# Alpha"
   ]
  },
  {
   "cell_type": "code",
   "execution_count": 7,
   "id": "e01ce885",
   "metadata": {},
   "outputs": [],
   "source": [
    "import pandas as pd\n",
    "import numpy as np"
   ]
  },
  {
   "cell_type": "code",
   "execution_count": 71,
   "id": "2c49f470",
   "metadata": {},
   "outputs": [],
   "source": [
    "df = pd.read_excel('test.xlsx')"
   ]
  },
  {
   "cell_type": "code",
   "execution_count": 64,
   "id": "89a1f391",
   "metadata": {},
   "outputs": [
    {
     "data": {
      "text/html": [
       "<div>\n",
       "<style scoped>\n",
       "    .dataframe tbody tr th:only-of-type {\n",
       "        vertical-align: middle;\n",
       "    }\n",
       "\n",
       "    .dataframe tbody tr th {\n",
       "        vertical-align: top;\n",
       "    }\n",
       "\n",
       "    .dataframe thead th {\n",
       "        text-align: right;\n",
       "    }\n",
       "</style>\n",
       "<table border=\"1\" class=\"dataframe\">\n",
       "  <thead>\n",
       "    <tr style=\"text-align: right;\">\n",
       "      <th></th>\n",
       "      <th>p</th>\n",
       "      <th>293.15</th>\n",
       "      <th>298.15</th>\n",
       "      <th>303.15</th>\n",
       "      <th>308.15</th>\n",
       "      <th>313.15</th>\n",
       "      <th>318.15</th>\n",
       "      <th>323.15</th>\n",
       "    </tr>\n",
       "  </thead>\n",
       "  <tbody>\n",
       "    <tr>\n",
       "      <th>0</th>\n",
       "      <td>0.101</td>\n",
       "      <td>1453.26</td>\n",
       "      <td>1448.39</td>\n",
       "      <td>1443.74</td>\n",
       "      <td>1439.13</td>\n",
       "      <td>1434.50</td>\n",
       "      <td>1429.87</td>\n",
       "      <td>1425.25</td>\n",
       "    </tr>\n",
       "    <tr>\n",
       "      <th>1</th>\n",
       "      <td>10.000</td>\n",
       "      <td>1460.28</td>\n",
       "      <td>1455.69</td>\n",
       "      <td>1451.11</td>\n",
       "      <td>1446.55</td>\n",
       "      <td>1442.00</td>\n",
       "      <td>1437.47</td>\n",
       "      <td>1432.96</td>\n",
       "    </tr>\n",
       "    <tr>\n",
       "      <th>2</th>\n",
       "      <td>20.000</td>\n",
       "      <td>1467.03</td>\n",
       "      <td>1462.54</td>\n",
       "      <td>1458.07</td>\n",
       "      <td>1453.62</td>\n",
       "      <td>1449.18</td>\n",
       "      <td>1444.76</td>\n",
       "      <td>1440.36</td>\n",
       "    </tr>\n",
       "    <tr>\n",
       "      <th>3</th>\n",
       "      <td>30.000</td>\n",
       "      <td>1473.47</td>\n",
       "      <td>1469.08</td>\n",
       "      <td>1464.71</td>\n",
       "      <td>1460.35</td>\n",
       "      <td>1456.01</td>\n",
       "      <td>1451.70</td>\n",
       "      <td>1447.40</td>\n",
       "    </tr>\n",
       "    <tr>\n",
       "      <th>4</th>\n",
       "      <td>40.000</td>\n",
       "      <td>NaN</td>\n",
       "      <td>1475.33</td>\n",
       "      <td>1471.05</td>\n",
       "      <td>1466.79</td>\n",
       "      <td>1462.54</td>\n",
       "      <td>1458.31</td>\n",
       "      <td>1454.10</td>\n",
       "    </tr>\n",
       "    <tr>\n",
       "      <th>5</th>\n",
       "      <td>50.000</td>\n",
       "      <td>NaN</td>\n",
       "      <td>1481.33</td>\n",
       "      <td>1477.14</td>\n",
       "      <td>1472.95</td>\n",
       "      <td>1468.79</td>\n",
       "      <td>1464.64</td>\n",
       "      <td>1460.52</td>\n",
       "    </tr>\n",
       "    <tr>\n",
       "      <th>6</th>\n",
       "      <td>60.000</td>\n",
       "      <td>NaN</td>\n",
       "      <td>1487.11</td>\n",
       "      <td>1482.99</td>\n",
       "      <td>1478.88</td>\n",
       "      <td>1474.80</td>\n",
       "      <td>1470.73</td>\n",
       "      <td>1466.68</td>\n",
       "    </tr>\n",
       "    <tr>\n",
       "      <th>7</th>\n",
       "      <td>70.000</td>\n",
       "      <td>NaN</td>\n",
       "      <td>NaN</td>\n",
       "      <td>1488.63</td>\n",
       "      <td>1484.60</td>\n",
       "      <td>1480.58</td>\n",
       "      <td>1476.58</td>\n",
       "      <td>1472.60</td>\n",
       "    </tr>\n",
       "    <tr>\n",
       "      <th>8</th>\n",
       "      <td>80.000</td>\n",
       "      <td>NaN</td>\n",
       "      <td>NaN</td>\n",
       "      <td>1494.08</td>\n",
       "      <td>1490.11</td>\n",
       "      <td>1486.17</td>\n",
       "      <td>1482.23</td>\n",
       "      <td>1478.32</td>\n",
       "    </tr>\n",
       "    <tr>\n",
       "      <th>9</th>\n",
       "      <td>90.000</td>\n",
       "      <td>NaN</td>\n",
       "      <td>NaN</td>\n",
       "      <td>1499.35</td>\n",
       "      <td>1495.45</td>\n",
       "      <td>1491.57</td>\n",
       "      <td>1487.70</td>\n",
       "      <td>1483.84</td>\n",
       "    </tr>\n",
       "    <tr>\n",
       "      <th>10</th>\n",
       "      <td>100.000</td>\n",
       "      <td>NaN</td>\n",
       "      <td>NaN</td>\n",
       "      <td>NaN</td>\n",
       "      <td>1500.63</td>\n",
       "      <td>1496.80</td>\n",
       "      <td>1492.99</td>\n",
       "      <td>1489.19</td>\n",
       "    </tr>\n",
       "  </tbody>\n",
       "</table>\n",
       "</div>"
      ],
      "text/plain": [
       "          p   293.15   298.15   303.15   308.15   313.15   318.15   323.15\n",
       "0     0.101  1453.26  1448.39  1443.74  1439.13  1434.50  1429.87  1425.25\n",
       "1    10.000  1460.28  1455.69  1451.11  1446.55  1442.00  1437.47  1432.96\n",
       "2    20.000  1467.03  1462.54  1458.07  1453.62  1449.18  1444.76  1440.36\n",
       "3    30.000  1473.47  1469.08  1464.71  1460.35  1456.01  1451.70  1447.40\n",
       "4    40.000      NaN  1475.33  1471.05  1466.79  1462.54  1458.31  1454.10\n",
       "5    50.000      NaN  1481.33  1477.14  1472.95  1468.79  1464.64  1460.52\n",
       "6    60.000      NaN  1487.11  1482.99  1478.88  1474.80  1470.73  1466.68\n",
       "7    70.000      NaN      NaN  1488.63  1484.60  1480.58  1476.58  1472.60\n",
       "8    80.000      NaN      NaN  1494.08  1490.11  1486.17  1482.23  1478.32\n",
       "9    90.000      NaN      NaN  1499.35  1495.45  1491.57  1487.70  1483.84\n",
       "10  100.000      NaN      NaN      NaN  1500.63  1496.80  1492.99  1489.19"
      ]
     },
     "execution_count": 64,
     "metadata": {},
     "output_type": "execute_result"
    }
   ],
   "source": [
    "df"
   ]
  },
  {
   "cell_type": "code",
   "execution_count": 46,
   "id": "2343acf2",
   "metadata": {},
   "outputs": [
    {
     "data": {
      "text/plain": [
       "[293.15, 298.15, 303.15, 308.15, 313.15, 318.15, 323.15]"
      ]
     },
     "execution_count": 46,
     "metadata": {},
     "output_type": "execute_result"
    }
   ],
   "source": [
    "temp_cols"
   ]
  },
  {
   "cell_type": "code",
   "execution_count": 63,
   "id": "593bda3e",
   "metadata": {},
   "outputs": [
    {
     "name": "stdout",
     "output_type": "stream",
     "text": [
      "      293.15    298.15    303.15    308.15    313.15    318.15\n",
      "0   0.000670  0.000642  0.000639  0.000643  0.000646  0.000646\n",
      "1   0.000629  0.000629  0.000628  0.000629  0.000628  0.000627\n",
      "2   0.000612  0.000611  0.000610  0.000611  0.000610  0.000609\n",
      "3   0.000596  0.000595  0.000595  0.000594  0.000592  0.000592\n",
      "4        NaN  0.000580  0.000579  0.000579  0.000578  0.000577\n",
      "5        NaN  0.000566  0.000567  0.000565  0.000565  0.000563\n",
      "6        NaN  0.000554  0.000554  0.000552  0.000552  0.000551\n",
      "7        NaN       NaN  0.000541  0.000542  0.000540  0.000539\n",
      "8        NaN       NaN  0.000531  0.000529  0.000530  0.000528\n",
      "9        NaN       NaN  0.000520  0.000519  0.000519  0.000519\n",
      "10       NaN       NaN       NaN  0.000510  0.000509  0.000509\n"
     ]
    }
   ],
   "source": [
    "temp_cols = [col for col in df.columns if col != 'p']\n",
    "\n",
    "# Inicjalizacja listy wynikowej\n",
    "alpha = []\n",
    "\n",
    "# Iteracja po wierszach (ciśnieniach)\n",
    "for i in range(len(df)):\n",
    "    # Pobranie wartości ciśnienia w wierszu i utworzenie listy gęstości\n",
    "    p = df.loc[i, 'p']\n",
    "    dens = df.loc[i, temp_cols].tolist()\n",
    "    #print(dens)\n",
    "    # Inicjalizacja listy wynikowej dla danego wiersza\n",
    "    alpha_row = []\n",
    "    \n",
    "    # Iteracja po parach sąsiednich temperatur\n",
    "    for j in range(len(dens)-1):\n",
    "        # Pobranie temperatur i gęstości z par sąsiednich wartości\n",
    "        T1, T2 = temp_cols[j], temp_cols[j+1]\n",
    "        dens1, dens2 = dens[j], dens[j+1]\n",
    "        \n",
    "        # Obliczenie współczynnika rozszerzalności cieplnej dla pary temperatur\n",
    "        alpha_pair = -(1/dens1) * (dens2 - dens1)/(float(T2) - float(T1))\n",
    "        \n",
    "        # Dodanie wyniku do listy wynikowej dla wiersza\n",
    "        alpha_row.append(alpha_pair)\n",
    "    \n",
    "    # Dodanie listy wynikowej dla wiersza do listy wynikowej ogólnej\n",
    "    alpha.append(alpha_row)\n",
    "\n",
    "# Utworzenie obiektu DataFrame z listy wynikowej\n",
    "alpha_df = pd.DataFrame(alpha, columns=temp_cols[:-1])\n",
    "\n",
    "# Wyświetlenie wyniku\n",
    "print(alpha_df)"
   ]
  },
  {
   "cell_type": "code",
   "execution_count": 44,
   "id": "c50df21e",
   "metadata": {},
   "outputs": [],
   "source": [
    "def alpha(filename, sheetname=None):\n",
    "    # Wczytanie danych z arkusza w pliku Excela\n",
    "    df = pd.read_excel(filename, sheet_name=sheetname)\n",
    "\n",
    "    # Wyodrębnienie kolumn z wartościami temperatury\n",
    "    temp_cols = [col for col in df.columns if col != 'p']\n",
    "\n",
    "    # Inicjalizacja pustej ramki danych do przechowywania wyników\n",
    "    alpha_df = pd.DataFrame(columns=temp_cols, index=df.index)\n",
    "\n",
    "    # Obliczenie współczynnika rozszerzalności cieplnej dla każdej pary temperatur\n",
    "    for i in range(1, len(df)):\n",
    "        for j in range(len(temp_cols)):\n",
    "            dens1 = df.iloc[i-1, j+1]\n",
    "            dens2 = df.iloc[i, j+1]\n",
    "            T1 = df.iloc[i-1, 0]\n",
    "            T2 = df.iloc[i, 0]\n",
    "            alpha_val = -(1/dens1) * (dens2 - dens1) / (T2 - T1)\n",
    "            alpha_df.iloc[i-1, j] = alpha_val\n",
    "\n",
    "    return alpha_df"
   ]
  },
  {
   "cell_type": "code",
   "execution_count": 50,
   "id": "815d9f29",
   "metadata": {},
   "outputs": [],
   "source": [
    "def alpha(file_path, sheetname=None):\n",
    "    df = pd.read_excel(file_path, sheet_name=sheetname)\n",
    "    df = pd.DataFrame.from_dict(data).T\n",
    "    df.columns = df.iloc[0]\n",
    "    df = df.drop(df.index[0])\n",
    "    temp_cols = [col for col in df.columns if col != 'p']\n",
    "    alpha = []\n",
    "    for i in range(len(df)):\n",
    "        p = df.loc[i, 'p']\n",
    "        dens = df.loc[i, temp_cols].tolist()\n",
    "        alpha_row = []\n",
    "        for j in range(len(dens) - 1):\n",
    "            T1, T2 = temp_cols[j], temp_cols[j+1]\n",
    "            dens1, dens2 = dens[j], dens[j+1]\n",
    "            alpha_pair = -(1/dens1) * (dens2 - dens1)/(float(T2) - float(T1))\n",
    "            alpha_row.append(alpha_pair)\n",
    "        alpha.append(alpha_row)\n",
    "    alpha_df = pd.DataFrame(alpha, columns=temp_cols[:-1])\n",
    "    return alpha_df"
   ]
  },
  {
   "cell_type": "code",
   "execution_count": 51,
   "id": "9bf4824a",
   "metadata": {},
   "outputs": [
    {
     "ename": "NameError",
     "evalue": "name 'data' is not defined",
     "output_type": "error",
     "traceback": [
      "\u001b[1;31m---------------------------------------------------------------------------\u001b[0m",
      "\u001b[1;31mNameError\u001b[0m                                 Traceback (most recent call last)",
      "Input \u001b[1;32mIn [51]\u001b[0m, in \u001b[0;36m<cell line: 1>\u001b[1;34m()\u001b[0m\n\u001b[1;32m----> 1\u001b[0m \u001b[43malpha\u001b[49m\u001b[43m(\u001b[49m\u001b[38;5;124;43m'\u001b[39;49m\u001b[38;5;124;43mtest.xlsx\u001b[39;49m\u001b[38;5;124;43m'\u001b[39;49m\u001b[43m)\u001b[49m\n",
      "Input \u001b[1;32mIn [50]\u001b[0m, in \u001b[0;36malpha\u001b[1;34m(file_path, sheetname)\u001b[0m\n\u001b[0;32m      1\u001b[0m \u001b[38;5;28;01mdef\u001b[39;00m \u001b[38;5;21malpha\u001b[39m(file_path, sheetname\u001b[38;5;241m=\u001b[39m\u001b[38;5;28;01mNone\u001b[39;00m):\n\u001b[0;32m      2\u001b[0m     df \u001b[38;5;241m=\u001b[39m pd\u001b[38;5;241m.\u001b[39mread_excel(file_path, sheet_name\u001b[38;5;241m=\u001b[39msheetname)\n\u001b[1;32m----> 3\u001b[0m     df \u001b[38;5;241m=\u001b[39m pd\u001b[38;5;241m.\u001b[39mDataFrame\u001b[38;5;241m.\u001b[39mfrom_dict(\u001b[43mdata\u001b[49m)\u001b[38;5;241m.\u001b[39mT\n\u001b[0;32m      4\u001b[0m     df\u001b[38;5;241m.\u001b[39mcolumns \u001b[38;5;241m=\u001b[39m df\u001b[38;5;241m.\u001b[39miloc[\u001b[38;5;241m0\u001b[39m]\n\u001b[0;32m      5\u001b[0m     df \u001b[38;5;241m=\u001b[39m df\u001b[38;5;241m.\u001b[39mdrop(df\u001b[38;5;241m.\u001b[39mindex[\u001b[38;5;241m0\u001b[39m])\n",
      "\u001b[1;31mNameError\u001b[0m: name 'data' is not defined"
     ]
    }
   ],
   "source": [
    "alpha('test.xlsx')"
   ]
  },
  {
   "cell_type": "code",
   "execution_count": 56,
   "id": "b52b79eb",
   "metadata": {},
   "outputs": [],
   "source": [
    "def kt(file_path, sheetname=None):\n",
    "    \"\"\"\n",
    "    Funkcja oblicza współczynnik przewodnictwa cieplnego materiału na podstawie tabeli z danymi.\n",
    "    \n",
    "    :param file_path: ścieżka do pliku Excela\n",
    "    :param sheetname: nazwa arkusza w pliku Excela (opcjonalna)\n",
    "    :return: obiekt DataFrame z wynikami\n",
    "    \n",
    "    \"\"\"\n",
    "    # Wczytanie danych z pliku Excela\n",
    "    if sheetname:\n",
    "        df = pd.read_excel(file_path, sheet_name=sheetname)\n",
    "    else:\n",
    "        df = pd.read_excel(file_path)\n",
    "    \n",
    "    # Wybór kolumn z temperaturami i opornościami cieplnymi\n",
    "    temp_cols = [col for col in df.columns if col != 'p']\n",
    "    res_cols = [col for col in df.columns if col.startswith('R')]\n",
    "    \n",
    "    # Inicjalizacja listy wynikowej\n",
    "    kt_list = []\n",
    "\n",
    "    # Iteracja po wierszach (ciśnieniach)\n",
    "    for i in range(len(df)):\n",
    "        # Pobranie wartości ciśnienia w wierszu i utworzenie listy oporności cieplnych\n",
    "        p = df.loc[i, 'p']\n",
    "        res = df.loc[i, res_cols].tolist()\n",
    "\n",
    "        # Inicjalizacja listy wynikowej dla danego wiersza\n",
    "        kt_row = []\n",
    "\n",
    "        # Iteracja po parach sąsiednich temperatur\n",
    "        for j in range(len(res) - 1):\n",
    "            # Pobranie temperatur i oporności cieplnych z par sąsiednich wartości\n",
    "            T1, T2 = temp_cols[j], temp_cols[j+1]\n",
    "            res1, res2 = res[j], res[j+1]\n",
    "\n",
    "            # Obliczenie współczynnika przewodnictwa cieplnego dla pary temperatur\n",
    "            kt_pair = (res2 - res1)/(float(T2) - float(T1))\n",
    "\n",
    "            # Dodanie wyniku do listy wynikowej dla wiersza\n",
    "            kt_row.append(kt_pair)\n",
    "\n",
    "        # Dodanie listy wynikowej dla wiersza do listy wynikowej ogólnej\n",
    "        kt_list.append(kt_row)\n",
    "\n",
    "    # Utworzenie obiektu DataFrame z listy wynikowej\n",
    "    kt_df = pd.DataFrame(kt_list, columns=temp_cols[:-1])\n",
    "\n",
    "    # Zwrócenie wyniku\n",
    "    return kt_df"
   ]
  },
  {
   "cell_type": "code",
   "execution_count": 57,
   "id": "431b415d",
   "metadata": {},
   "outputs": [
    {
     "ename": "AttributeError",
     "evalue": "'float' object has no attribute 'startswith'",
     "output_type": "error",
     "traceback": [
      "\u001b[1;31m---------------------------------------------------------------------------\u001b[0m",
      "\u001b[1;31mAttributeError\u001b[0m                            Traceback (most recent call last)",
      "Input \u001b[1;32mIn [57]\u001b[0m, in \u001b[0;36m<cell line: 1>\u001b[1;34m()\u001b[0m\n\u001b[1;32m----> 1\u001b[0m \u001b[43mkt\u001b[49m\u001b[43m(\u001b[49m\u001b[38;5;124;43m'\u001b[39;49m\u001b[38;5;124;43mtest.xlsx\u001b[39;49m\u001b[38;5;124;43m'\u001b[39;49m\u001b[43m)\u001b[49m\n",
      "Input \u001b[1;32mIn [56]\u001b[0m, in \u001b[0;36mkt\u001b[1;34m(file_path, sheetname)\u001b[0m\n\u001b[0;32m     16\u001b[0m \u001b[38;5;66;03m# Wybór kolumn z temperaturami i opornościami cieplnymi\u001b[39;00m\n\u001b[0;32m     17\u001b[0m temp_cols \u001b[38;5;241m=\u001b[39m [col \u001b[38;5;28;01mfor\u001b[39;00m col \u001b[38;5;129;01min\u001b[39;00m df\u001b[38;5;241m.\u001b[39mcolumns \u001b[38;5;28;01mif\u001b[39;00m col \u001b[38;5;241m!=\u001b[39m \u001b[38;5;124m'\u001b[39m\u001b[38;5;124mp\u001b[39m\u001b[38;5;124m'\u001b[39m]\n\u001b[1;32m---> 18\u001b[0m res_cols \u001b[38;5;241m=\u001b[39m [col \u001b[38;5;28;01mfor\u001b[39;00m col \u001b[38;5;129;01min\u001b[39;00m df\u001b[38;5;241m.\u001b[39mcolumns \u001b[38;5;28;01mif\u001b[39;00m col\u001b[38;5;241m.\u001b[39mstartswith(\u001b[38;5;124m'\u001b[39m\u001b[38;5;124mR\u001b[39m\u001b[38;5;124m'\u001b[39m)]\n\u001b[0;32m     20\u001b[0m \u001b[38;5;66;03m# Inicjalizacja listy wynikowej\u001b[39;00m\n\u001b[0;32m     21\u001b[0m kt_list \u001b[38;5;241m=\u001b[39m []\n",
      "Input \u001b[1;32mIn [56]\u001b[0m, in \u001b[0;36m<listcomp>\u001b[1;34m(.0)\u001b[0m\n\u001b[0;32m     16\u001b[0m \u001b[38;5;66;03m# Wybór kolumn z temperaturami i opornościami cieplnymi\u001b[39;00m\n\u001b[0;32m     17\u001b[0m temp_cols \u001b[38;5;241m=\u001b[39m [col \u001b[38;5;28;01mfor\u001b[39;00m col \u001b[38;5;129;01min\u001b[39;00m df\u001b[38;5;241m.\u001b[39mcolumns \u001b[38;5;28;01mif\u001b[39;00m col \u001b[38;5;241m!=\u001b[39m \u001b[38;5;124m'\u001b[39m\u001b[38;5;124mp\u001b[39m\u001b[38;5;124m'\u001b[39m]\n\u001b[1;32m---> 18\u001b[0m res_cols \u001b[38;5;241m=\u001b[39m [col \u001b[38;5;28;01mfor\u001b[39;00m col \u001b[38;5;129;01min\u001b[39;00m df\u001b[38;5;241m.\u001b[39mcolumns \u001b[38;5;28;01mif\u001b[39;00m \u001b[43mcol\u001b[49m\u001b[38;5;241;43m.\u001b[39;49m\u001b[43mstartswith\u001b[49m(\u001b[38;5;124m'\u001b[39m\u001b[38;5;124mR\u001b[39m\u001b[38;5;124m'\u001b[39m)]\n\u001b[0;32m     20\u001b[0m \u001b[38;5;66;03m# Inicjalizacja listy wynikowej\u001b[39;00m\n\u001b[0;32m     21\u001b[0m kt_list \u001b[38;5;241m=\u001b[39m []\n",
      "\u001b[1;31mAttributeError\u001b[0m: 'float' object has no attribute 'startswith'"
     ]
    }
   ],
   "source": [
    "kt('test.xlsx')"
   ]
  },
  {
   "cell_type": "code",
   "execution_count": 58,
   "id": "9ddd4c24",
   "metadata": {},
   "outputs": [],
   "source": [
    "import pandas as pd\n",
    "import numpy as np\n",
    "\n",
    "def kt(nazwa_pliku, sheetname=None):\n",
    "    # Odczytanie arkusza z pliku\n",
    "    df = pd.read_excel(nazwa_pliku, sheet_name=sheetname)\n",
    "\n",
    "    # Wyodrębnienie nazw kolumn zawierających wartości temperatury\n",
    "    temp_cols = [col for col in df.columns if col.startswith('T') and pd.api.types.is_numeric_dtype(df[col])]\n",
    "    \n",
    "    # Wyodrębnienie nazw kolumn zawierających wartości rozmiarów\n",
    "    res_cols = [col for col in df.columns if col.startswith('R') and pd.api.types.is_numeric_dtype(df[col])]\n",
    "    \n",
    "    # Inicjalizacja listy wynikowej\n",
    "    kt_list = []\n",
    "\n",
    "    # Iteracja po parach temperatur\n",
    "    for j in range(len(temp_cols) - 1):\n",
    "        # Pobranie temperatur z pary sąsiednich wartości\n",
    "        T1, T2 = temp_cols[j], temp_cols[j+1]\n",
    "\n",
    "        # Inicjalizacja listy wynikowej dla danej pary temperatur\n",
    "        kt_pair = []\n",
    "\n",
    "        # Iteracja po wartościach rozmiarów dla danej pary temperatur\n",
    "        for res_col in res_cols:\n",
    "            # Pobranie wartości rozmiaru z ramki danych\n",
    "            res_val = df[res_col].values\n",
    "\n",
    "            # Obliczenie wartości współczynnika przewodnictwa cieplnego dla danego rozmiaru\n",
    "            kt_val = np.pi * np.log(res_val[1]/res_val[0])/(2 * (T2 - T1))\n",
    "\n",
    "            # Dodanie wartości do listy wynikowej dla danej pary temperatur\n",
    "            kt_pair.append(kt_val)\n",
    "\n",
    "        # Dodanie listy wynikowej dla danej pary temperatur do listy wynikowej ogólnej\n",
    "        kt_list.append(kt_pair)\n",
    "\n",
    "    # Utworzenie obiektu DataFrame z listy wynikowej\n",
    "    kt_df = pd.DataFrame(kt_list, columns=res_cols, index=temp_cols[:-1])\n",
    "\n",
    "    # Wyświetlenie wyniku\n",
    "    print(kt_df)"
   ]
  },
  {
   "cell_type": "code",
   "execution_count": 59,
   "id": "9abe9b54",
   "metadata": {},
   "outputs": [
    {
     "ename": "AttributeError",
     "evalue": "'dict' object has no attribute 'columns'",
     "output_type": "error",
     "traceback": [
      "\u001b[1;31m---------------------------------------------------------------------------\u001b[0m",
      "\u001b[1;31mAttributeError\u001b[0m                            Traceback (most recent call last)",
      "Input \u001b[1;32mIn [59]\u001b[0m, in \u001b[0;36m<cell line: 1>\u001b[1;34m()\u001b[0m\n\u001b[1;32m----> 1\u001b[0m \u001b[43mkt\u001b[49m\u001b[43m(\u001b[49m\u001b[38;5;124;43m'\u001b[39;49m\u001b[38;5;124;43mtest.xlsx\u001b[39;49m\u001b[38;5;124;43m'\u001b[39;49m\u001b[43m)\u001b[49m\n",
      "Input \u001b[1;32mIn [58]\u001b[0m, in \u001b[0;36mkt\u001b[1;34m(nazwa_pliku, sheetname)\u001b[0m\n\u001b[0;32m      6\u001b[0m df \u001b[38;5;241m=\u001b[39m pd\u001b[38;5;241m.\u001b[39mread_excel(nazwa_pliku, sheet_name\u001b[38;5;241m=\u001b[39msheetname)\n\u001b[0;32m      8\u001b[0m \u001b[38;5;66;03m# Wyodrębnienie nazw kolumn zawierających wartości temperatury\u001b[39;00m\n\u001b[1;32m----> 9\u001b[0m temp_cols \u001b[38;5;241m=\u001b[39m [col \u001b[38;5;28;01mfor\u001b[39;00m col \u001b[38;5;129;01min\u001b[39;00m \u001b[43mdf\u001b[49m\u001b[38;5;241;43m.\u001b[39;49m\u001b[43mcolumns\u001b[49m \u001b[38;5;28;01mif\u001b[39;00m col\u001b[38;5;241m.\u001b[39mstartswith(\u001b[38;5;124m'\u001b[39m\u001b[38;5;124mT\u001b[39m\u001b[38;5;124m'\u001b[39m) \u001b[38;5;129;01mand\u001b[39;00m pd\u001b[38;5;241m.\u001b[39mapi\u001b[38;5;241m.\u001b[39mtypes\u001b[38;5;241m.\u001b[39mis_numeric_dtype(df[col])]\n\u001b[0;32m     11\u001b[0m \u001b[38;5;66;03m# Wyodrębnienie nazw kolumn zawierających wartości rozmiarów\u001b[39;00m\n\u001b[0;32m     12\u001b[0m res_cols \u001b[38;5;241m=\u001b[39m [col \u001b[38;5;28;01mfor\u001b[39;00m col \u001b[38;5;129;01min\u001b[39;00m df\u001b[38;5;241m.\u001b[39mcolumns \u001b[38;5;28;01mif\u001b[39;00m col\u001b[38;5;241m.\u001b[39mstartswith(\u001b[38;5;124m'\u001b[39m\u001b[38;5;124mR\u001b[39m\u001b[38;5;124m'\u001b[39m) \u001b[38;5;129;01mand\u001b[39;00m pd\u001b[38;5;241m.\u001b[39mapi\u001b[38;5;241m.\u001b[39mtypes\u001b[38;5;241m.\u001b[39mis_numeric_dtype(df[col])]\n",
      "\u001b[1;31mAttributeError\u001b[0m: 'dict' object has no attribute 'columns'"
     ]
    }
   ],
   "source": [
    "kt('test.xlsx')"
   ]
  },
  {
   "cell_type": "code",
   "execution_count": 65,
   "id": "abd30fdd",
   "metadata": {},
   "outputs": [
    {
     "ename": "ValueError",
     "evalue": "object too deep for desired array",
     "output_type": "error",
     "traceback": [
      "\u001b[1;31m---------------------------------------------------------------------------\u001b[0m",
      "\u001b[1;31mValueError\u001b[0m                                Traceback (most recent call last)",
      "Input \u001b[1;32mIn [65]\u001b[0m, in \u001b[0;36m<cell line: 8>\u001b[1;34m()\u001b[0m\n\u001b[0;32m      4\u001b[0m gęstości \u001b[38;5;241m=\u001b[39m np\u001b[38;5;241m.\u001b[39marray([[\u001b[38;5;241m1453.26\u001b[39m, \u001b[38;5;241m1448.39\u001b[39m, \u001b[38;5;241m1443.74\u001b[39m, \u001b[38;5;241m1439.13\u001b[39m, \u001b[38;5;241m1434.50\u001b[39m, \u001b[38;5;241m1429.87\u001b[39m, \u001b[38;5;241m1425.25\u001b[39m],\n\u001b[0;32m      5\u001b[0m                      [\u001b[38;5;241m1460.28\u001b[39m, \u001b[38;5;241m1455.69\u001b[39m, \u001b[38;5;241m1451.11\u001b[39m, \u001b[38;5;241m1446.55\u001b[39m, \u001b[38;5;241m1442.00\u001b[39m, \u001b[38;5;241m1437.47\u001b[39m, \u001b[38;5;241m1432.96\u001b[39m]])\n\u001b[0;32m      7\u001b[0m \u001b[38;5;66;03m# Interpolacja liniowa\u001b[39;00m\n\u001b[1;32m----> 8\u001b[0m gęstość \u001b[38;5;241m=\u001b[39m \u001b[43mnp\u001b[49m\u001b[38;5;241;43m.\u001b[39;49m\u001b[43minterp\u001b[49m\u001b[43m(\u001b[49m\u001b[43mcisnienie\u001b[49m\u001b[43m,\u001b[49m\u001b[43m \u001b[49m\u001b[43mciśnienia\u001b[49m\u001b[43m,\u001b[49m\u001b[43m \u001b[49m\u001b[43mgęstości\u001b[49m\u001b[43m)\u001b[49m\n\u001b[0;32m      9\u001b[0m delta_T \u001b[38;5;241m=\u001b[39m \u001b[38;5;241m1.0\u001b[39m\n\u001b[0;32m     10\u001b[0m gęstości_1 \u001b[38;5;241m=\u001b[39m np\u001b[38;5;241m.\u001b[39minterp(cisnienie, ciśnienia, gęstości\u001b[38;5;241m-\u001b[39mdelta_T)\n",
      "File \u001b[1;32m<__array_function__ internals>:5\u001b[0m, in \u001b[0;36minterp\u001b[1;34m(*args, **kwargs)\u001b[0m\n",
      "File \u001b[1;32mE:\\Anaconda\\lib\\site-packages\\numpy\\lib\\function_base.py:1439\u001b[0m, in \u001b[0;36minterp\u001b[1;34m(x, xp, fp, left, right, period)\u001b[0m\n\u001b[0;32m   1436\u001b[0m     xp \u001b[38;5;241m=\u001b[39m np\u001b[38;5;241m.\u001b[39mconcatenate((xp[\u001b[38;5;241m-\u001b[39m\u001b[38;5;241m1\u001b[39m:]\u001b[38;5;241m-\u001b[39mperiod, xp, xp[\u001b[38;5;241m0\u001b[39m:\u001b[38;5;241m1\u001b[39m]\u001b[38;5;241m+\u001b[39mperiod))\n\u001b[0;32m   1437\u001b[0m     fp \u001b[38;5;241m=\u001b[39m np\u001b[38;5;241m.\u001b[39mconcatenate((fp[\u001b[38;5;241m-\u001b[39m\u001b[38;5;241m1\u001b[39m:], fp, fp[\u001b[38;5;241m0\u001b[39m:\u001b[38;5;241m1\u001b[39m]))\n\u001b[1;32m-> 1439\u001b[0m \u001b[38;5;28;01mreturn\u001b[39;00m \u001b[43minterp_func\u001b[49m\u001b[43m(\u001b[49m\u001b[43mx\u001b[49m\u001b[43m,\u001b[49m\u001b[43m \u001b[49m\u001b[43mxp\u001b[49m\u001b[43m,\u001b[49m\u001b[43m \u001b[49m\u001b[43mfp\u001b[49m\u001b[43m,\u001b[49m\u001b[43m \u001b[49m\u001b[43mleft\u001b[49m\u001b[43m,\u001b[49m\u001b[43m \u001b[49m\u001b[43mright\u001b[49m\u001b[43m)\u001b[49m\n",
      "\u001b[1;31mValueError\u001b[0m: object too deep for desired array"
     ]
    }
   ],
   "source": [
    "temperatura = 298.15\n",
    "cisnienie = 0.101\n",
    "ciśnienia = np.array([0.101, 10.000])\n",
    "gęstości = np.array([[1453.26, 1448.39, 1443.74, 1439.13, 1434.50, 1429.87, 1425.25],\n",
    "                     [1460.28, 1455.69, 1451.11, 1446.55, 1442.00, 1437.47, 1432.96]])\n",
    "\n",
    "# Interpolacja liniowa\n",
    "gęstość = np.interp(cisnienie, ciśnienia, gęstości)\n",
    "delta_T = 1.0\n",
    "gęstości_1 = np.interp(cisnienie, ciśnienia, gęstości-delta_T)\n",
    "gęstości_2 = np.interp(cisnienie, ciśnienia, gęstości+delta_T)\n",
    "\n",
    "# Pochodna numeryczna\n",
    "dgęstość_dT = np.gradient(gęstość, delta_T)\n",
    "alpha = -(1/gęstość)*(dgęstość_dT[np.abs(temperatura-ciśnienia).argmin()]) # wartość dla zadanej temperatury i ciśnienia"
   ]
  },
  {
   "cell_type": "code",
   "execution_count": 68,
   "id": "a8a1e430",
   "metadata": {},
   "outputs": [
    {
     "name": "stdout",
     "output_type": "stream",
     "text": [
      "[4.76682232e-07 4.76682232e-07]\n"
     ]
    }
   ],
   "source": [
    "import numpy as np\n",
    "import pandas as pd\n",
    "\n",
    "# Dane\n",
    "df = pd.DataFrame({'p': [0.101, 10.000], \n",
    "                   293.15: [1453.26, 1460.28], \n",
    "                   298.15: [1448.39, 1455.69],\n",
    "                   303.15: [1443.74, 1451.11], \n",
    "                   308.15: [1439.13, 1446.55], \n",
    "                   313.15: [1434.50, 1442.00],\n",
    "                   318.15: [1429.87, 1437.47], \n",
    "                   323.15: [1425.25, 1432.96]})\n",
    "temperatura = 298.15\n",
    "cisnienie = 0.101\n",
    "\n",
    "# Konwersja do tablicy NumPy\n",
    "ciśnienia = df['p'].values\n",
    "gęstości = df.iloc[:, 1:].values\n",
    "\n",
    "# Interpolacja liniowa\n",
    "gęstości_interp = np.zeros(gęstości.shape)\n",
    "for i in range(gęstości.shape[1]):\n",
    "    gęstości_interp[:, i] = np.interp(cisnienie, ciśnienia, gęstości[:, i])\n",
    "\n",
    "gęstości_1_interp = np.zeros(gęstości.shape)\n",
    "for i in range(gęstości.shape[1]):\n",
    "    gęstości_1_interp[:, i] = np.interp(cisnienie, ciśnienia, gęstości[:, i] - 1)\n",
    "\n",
    "gęstości_2_interp = np.zeros(gęstości.shape)\n",
    "for i in range(gęstości.shape[1]):\n",
    "    gęstości_2_interp[:, i] = np.interp(cisnienie, ciśnienia, gęstości[:, i] + 1)\n",
    "\n",
    "# Pochodna numeryczna\n",
    "delta_T = 1.0\n",
    "dgęstość_dT = -(gęstości_2_interp - gęstości_1_interp) / (2 * delta_T * gęstości_interp)\n",
    "alpha = -(1/gęstości_interp[:, np.abs(temperatura-ciśnienia).argmin()])*(dgęstość_dT[:, np.abs(temperatura-ciśnienia).argmin()]) # wartość dla zadanej temperatury i ciśnienia\n",
    "\n",
    "print(alpha)\n",
    "#W tym kodzie, najpierw wykonywana jest interpolacja liniowa w pętli dla każdej kolumny gęstości. Następnie korzystając z tych tablic, obliczana jest numeryczna pochodna dgęstość_dT. Ostate\n",
    "\n",
    "\n",
    "\n",
    "\n",
    "\n"
   ]
  },
  {
   "cell_type": "code",
   "execution_count": 72,
   "id": "bd985eba",
   "metadata": {},
   "outputs": [],
   "source": [
    "# Przygotuj dane\n",
    "cisnienia = df['p']\n",
    "gęstości = df.drop('p', axis=1)"
   ]
  },
  {
   "cell_type": "code",
   "execution_count": null,
   "id": "930740ae",
   "metadata": {},
   "outputs": [],
   "source": [
    "df['p']"
   ]
  },
  {
   "cell_type": "code",
   "execution_count": 120,
   "id": "5a1f4936",
   "metadata": {},
   "outputs": [
    {
     "data": {
      "text/html": [
       "<div>\n",
       "<style scoped>\n",
       "    .dataframe tbody tr th:only-of-type {\n",
       "        vertical-align: middle;\n",
       "    }\n",
       "\n",
       "    .dataframe tbody tr th {\n",
       "        vertical-align: top;\n",
       "    }\n",
       "\n",
       "    .dataframe thead th {\n",
       "        text-align: right;\n",
       "    }\n",
       "</style>\n",
       "<table border=\"1\" class=\"dataframe\">\n",
       "  <thead>\n",
       "    <tr style=\"text-align: right;\">\n",
       "      <th></th>\n",
       "      <th>293.15</th>\n",
       "      <th>298.15</th>\n",
       "      <th>303.15</th>\n",
       "      <th>308.15</th>\n",
       "      <th>313.15</th>\n",
       "      <th>318.15</th>\n",
       "      <th>323.15</th>\n",
       "    </tr>\n",
       "  </thead>\n",
       "  <tbody>\n",
       "    <tr>\n",
       "      <th>0</th>\n",
       "      <td>1453.26</td>\n",
       "      <td>1448.39</td>\n",
       "      <td>1443.74</td>\n",
       "      <td>1439.13</td>\n",
       "      <td>1434.50</td>\n",
       "      <td>1429.87</td>\n",
       "      <td>1425.25</td>\n",
       "    </tr>\n",
       "    <tr>\n",
       "      <th>1</th>\n",
       "      <td>1460.28</td>\n",
       "      <td>1455.69</td>\n",
       "      <td>1451.11</td>\n",
       "      <td>1446.55</td>\n",
       "      <td>1442.00</td>\n",
       "      <td>1437.47</td>\n",
       "      <td>1432.96</td>\n",
       "    </tr>\n",
       "    <tr>\n",
       "      <th>2</th>\n",
       "      <td>1467.03</td>\n",
       "      <td>1462.54</td>\n",
       "      <td>1458.07</td>\n",
       "      <td>1453.62</td>\n",
       "      <td>1449.18</td>\n",
       "      <td>1444.76</td>\n",
       "      <td>1440.36</td>\n",
       "    </tr>\n",
       "  </tbody>\n",
       "</table>\n",
       "</div>"
      ],
      "text/plain": [
       "    293.15   298.15   303.15   308.15   313.15   318.15   323.15\n",
       "0  1453.26  1448.39  1443.74  1439.13  1434.50  1429.87  1425.25\n",
       "1  1460.28  1455.69  1451.11  1446.55  1442.00  1437.47  1432.96\n",
       "2  1467.03  1462.54  1458.07  1453.62  1449.18  1444.76  1440.36"
      ]
     },
     "execution_count": 120,
     "metadata": {},
     "output_type": "execute_result"
    }
   ],
   "source": [
    "gęstości[:3]"
   ]
  },
  {
   "cell_type": "code",
   "execution_count": 75,
   "id": "17d729a7",
   "metadata": {},
   "outputs": [],
   "source": [
    "# Oblicz różnicę gęstości i ciśnień\n",
    "delta_gęstości = gęstości.diff(axis=0)\n",
    "delta_cisnienia = cisnienia.diff()\n"
   ]
  },
  {
   "cell_type": "code",
   "execution_count": 78,
   "id": "a83efe15",
   "metadata": {},
   "outputs": [],
   "source": [
    "Kt = (1 / gęstości) * (delta_gęstości.div(delta_cisnienia, axis=0))"
   ]
  },
  {
   "cell_type": "code",
   "execution_count": 79,
   "id": "59be7d8d",
   "metadata": {},
   "outputs": [
    {
     "data": {
      "text/html": [
       "<div>\n",
       "<style scoped>\n",
       "    .dataframe tbody tr th:only-of-type {\n",
       "        vertical-align: middle;\n",
       "    }\n",
       "\n",
       "    .dataframe tbody tr th {\n",
       "        vertical-align: top;\n",
       "    }\n",
       "\n",
       "    .dataframe thead th {\n",
       "        text-align: right;\n",
       "    }\n",
       "</style>\n",
       "<table border=\"1\" class=\"dataframe\">\n",
       "  <thead>\n",
       "    <tr style=\"text-align: right;\">\n",
       "      <th></th>\n",
       "      <th>293.15</th>\n",
       "      <th>298.15</th>\n",
       "      <th>303.15</th>\n",
       "      <th>308.15</th>\n",
       "      <th>313.15</th>\n",
       "      <th>318.15</th>\n",
       "      <th>323.15</th>\n",
       "    </tr>\n",
       "  </thead>\n",
       "  <tbody>\n",
       "    <tr>\n",
       "      <th>0</th>\n",
       "      <td>NaN</td>\n",
       "      <td>NaN</td>\n",
       "      <td>NaN</td>\n",
       "      <td>NaN</td>\n",
       "      <td>NaN</td>\n",
       "      <td>NaN</td>\n",
       "      <td>NaN</td>\n",
       "    </tr>\n",
       "    <tr>\n",
       "      <th>1</th>\n",
       "      <td>0.000486</td>\n",
       "      <td>0.000507</td>\n",
       "      <td>0.000513</td>\n",
       "      <td>0.000518</td>\n",
       "      <td>0.000525</td>\n",
       "      <td>0.000534</td>\n",
       "      <td>0.000544</td>\n",
       "    </tr>\n",
       "    <tr>\n",
       "      <th>2</th>\n",
       "      <td>0.000460</td>\n",
       "      <td>0.000468</td>\n",
       "      <td>0.000477</td>\n",
       "      <td>0.000486</td>\n",
       "      <td>0.000495</td>\n",
       "      <td>0.000505</td>\n",
       "      <td>0.000514</td>\n",
       "    </tr>\n",
       "    <tr>\n",
       "      <th>3</th>\n",
       "      <td>0.000437</td>\n",
       "      <td>0.000445</td>\n",
       "      <td>0.000453</td>\n",
       "      <td>0.000461</td>\n",
       "      <td>0.000469</td>\n",
       "      <td>0.000478</td>\n",
       "      <td>0.000486</td>\n",
       "    </tr>\n",
       "    <tr>\n",
       "      <th>4</th>\n",
       "      <td>NaN</td>\n",
       "      <td>0.000424</td>\n",
       "      <td>0.000431</td>\n",
       "      <td>0.000439</td>\n",
       "      <td>0.000446</td>\n",
       "      <td>0.000453</td>\n",
       "      <td>0.000461</td>\n",
       "    </tr>\n",
       "    <tr>\n",
       "      <th>5</th>\n",
       "      <td>NaN</td>\n",
       "      <td>0.000405</td>\n",
       "      <td>0.000412</td>\n",
       "      <td>0.000418</td>\n",
       "      <td>0.000426</td>\n",
       "      <td>0.000432</td>\n",
       "      <td>0.000440</td>\n",
       "    </tr>\n",
       "    <tr>\n",
       "      <th>6</th>\n",
       "      <td>NaN</td>\n",
       "      <td>0.000389</td>\n",
       "      <td>0.000394</td>\n",
       "      <td>0.000401</td>\n",
       "      <td>0.000408</td>\n",
       "      <td>0.000414</td>\n",
       "      <td>0.000420</td>\n",
       "    </tr>\n",
       "    <tr>\n",
       "      <th>7</th>\n",
       "      <td>NaN</td>\n",
       "      <td>NaN</td>\n",
       "      <td>0.000379</td>\n",
       "      <td>0.000385</td>\n",
       "      <td>0.000390</td>\n",
       "      <td>0.000396</td>\n",
       "      <td>0.000402</td>\n",
       "    </tr>\n",
       "    <tr>\n",
       "      <th>8</th>\n",
       "      <td>NaN</td>\n",
       "      <td>NaN</td>\n",
       "      <td>0.000365</td>\n",
       "      <td>0.000370</td>\n",
       "      <td>0.000376</td>\n",
       "      <td>0.000381</td>\n",
       "      <td>0.000387</td>\n",
       "    </tr>\n",
       "    <tr>\n",
       "      <th>9</th>\n",
       "      <td>NaN</td>\n",
       "      <td>NaN</td>\n",
       "      <td>0.000351</td>\n",
       "      <td>0.000357</td>\n",
       "      <td>0.000362</td>\n",
       "      <td>0.000368</td>\n",
       "      <td>0.000372</td>\n",
       "    </tr>\n",
       "    <tr>\n",
       "      <th>10</th>\n",
       "      <td>NaN</td>\n",
       "      <td>NaN</td>\n",
       "      <td>NaN</td>\n",
       "      <td>0.000345</td>\n",
       "      <td>0.000349</td>\n",
       "      <td>0.000354</td>\n",
       "      <td>0.000359</td>\n",
       "    </tr>\n",
       "  </tbody>\n",
       "</table>\n",
       "</div>"
      ],
      "text/plain": [
       "      293.15    298.15    303.15    308.15    313.15    318.15    323.15\n",
       "0        NaN       NaN       NaN       NaN       NaN       NaN       NaN\n",
       "1   0.000486  0.000507  0.000513  0.000518  0.000525  0.000534  0.000544\n",
       "2   0.000460  0.000468  0.000477  0.000486  0.000495  0.000505  0.000514\n",
       "3   0.000437  0.000445  0.000453  0.000461  0.000469  0.000478  0.000486\n",
       "4        NaN  0.000424  0.000431  0.000439  0.000446  0.000453  0.000461\n",
       "5        NaN  0.000405  0.000412  0.000418  0.000426  0.000432  0.000440\n",
       "6        NaN  0.000389  0.000394  0.000401  0.000408  0.000414  0.000420\n",
       "7        NaN       NaN  0.000379  0.000385  0.000390  0.000396  0.000402\n",
       "8        NaN       NaN  0.000365  0.000370  0.000376  0.000381  0.000387\n",
       "9        NaN       NaN  0.000351  0.000357  0.000362  0.000368  0.000372\n",
       "10       NaN       NaN       NaN  0.000345  0.000349  0.000354  0.000359"
      ]
     },
     "execution_count": 79,
     "metadata": {},
     "output_type": "execute_result"
    }
   ],
   "source": [
    "Kt"
   ]
  },
  {
   "cell_type": "code",
   "execution_count": 99,
   "id": "2530c0d8",
   "metadata": {},
   "outputs": [],
   "source": [
    "temperatury = df.columns\n",
    "# Oblicz różnicę gęstości i ciśnień\n",
    "delta_gęstości = gęstości.diff(axis=1)\n",
    "delta_temperatury = [temp_values[i] - temp_values[i-1] for i in range(1, len(temp_values))]"
   ]
  },
  {
   "cell_type": "code",
   "execution_count": 104,
   "id": "68706d4f",
   "metadata": {},
   "outputs": [
    {
     "data": {
      "text/html": [
       "<div>\n",
       "<style scoped>\n",
       "    .dataframe tbody tr th:only-of-type {\n",
       "        vertical-align: middle;\n",
       "    }\n",
       "\n",
       "    .dataframe tbody tr th {\n",
       "        vertical-align: top;\n",
       "    }\n",
       "\n",
       "    .dataframe thead th {\n",
       "        text-align: right;\n",
       "    }\n",
       "</style>\n",
       "<table border=\"1\" class=\"dataframe\">\n",
       "  <thead>\n",
       "    <tr style=\"text-align: right;\">\n",
       "      <th></th>\n",
       "      <th>293.15</th>\n",
       "      <th>298.15</th>\n",
       "      <th>303.15</th>\n",
       "      <th>308.15</th>\n",
       "      <th>313.15</th>\n",
       "      <th>318.15</th>\n",
       "      <th>323.15</th>\n",
       "    </tr>\n",
       "  </thead>\n",
       "  <tbody>\n",
       "    <tr>\n",
       "      <th>0</th>\n",
       "      <td>NaN</td>\n",
       "      <td>-4.87</td>\n",
       "      <td>-4.65</td>\n",
       "      <td>-4.61</td>\n",
       "      <td>-4.63</td>\n",
       "      <td>-4.63</td>\n",
       "      <td>-4.62</td>\n",
       "    </tr>\n",
       "    <tr>\n",
       "      <th>1</th>\n",
       "      <td>NaN</td>\n",
       "      <td>-4.59</td>\n",
       "      <td>-4.58</td>\n",
       "      <td>-4.56</td>\n",
       "      <td>-4.55</td>\n",
       "      <td>-4.53</td>\n",
       "      <td>-4.51</td>\n",
       "    </tr>\n",
       "    <tr>\n",
       "      <th>2</th>\n",
       "      <td>NaN</td>\n",
       "      <td>-4.49</td>\n",
       "      <td>-4.47</td>\n",
       "      <td>-4.45</td>\n",
       "      <td>-4.44</td>\n",
       "      <td>-4.42</td>\n",
       "      <td>-4.40</td>\n",
       "    </tr>\n",
       "    <tr>\n",
       "      <th>3</th>\n",
       "      <td>NaN</td>\n",
       "      <td>-4.39</td>\n",
       "      <td>-4.37</td>\n",
       "      <td>-4.36</td>\n",
       "      <td>-4.34</td>\n",
       "      <td>-4.31</td>\n",
       "      <td>-4.30</td>\n",
       "    </tr>\n",
       "    <tr>\n",
       "      <th>4</th>\n",
       "      <td>NaN</td>\n",
       "      <td>NaN</td>\n",
       "      <td>-4.28</td>\n",
       "      <td>-4.26</td>\n",
       "      <td>-4.25</td>\n",
       "      <td>-4.23</td>\n",
       "      <td>-4.21</td>\n",
       "    </tr>\n",
       "    <tr>\n",
       "      <th>5</th>\n",
       "      <td>NaN</td>\n",
       "      <td>NaN</td>\n",
       "      <td>-4.19</td>\n",
       "      <td>-4.19</td>\n",
       "      <td>-4.16</td>\n",
       "      <td>-4.15</td>\n",
       "      <td>-4.12</td>\n",
       "    </tr>\n",
       "    <tr>\n",
       "      <th>6</th>\n",
       "      <td>NaN</td>\n",
       "      <td>NaN</td>\n",
       "      <td>-4.12</td>\n",
       "      <td>-4.11</td>\n",
       "      <td>-4.08</td>\n",
       "      <td>-4.07</td>\n",
       "      <td>-4.05</td>\n",
       "    </tr>\n",
       "    <tr>\n",
       "      <th>7</th>\n",
       "      <td>NaN</td>\n",
       "      <td>NaN</td>\n",
       "      <td>NaN</td>\n",
       "      <td>-4.03</td>\n",
       "      <td>-4.02</td>\n",
       "      <td>-4.00</td>\n",
       "      <td>-3.98</td>\n",
       "    </tr>\n",
       "    <tr>\n",
       "      <th>8</th>\n",
       "      <td>NaN</td>\n",
       "      <td>NaN</td>\n",
       "      <td>NaN</td>\n",
       "      <td>-3.97</td>\n",
       "      <td>-3.94</td>\n",
       "      <td>-3.94</td>\n",
       "      <td>-3.91</td>\n",
       "    </tr>\n",
       "    <tr>\n",
       "      <th>9</th>\n",
       "      <td>NaN</td>\n",
       "      <td>NaN</td>\n",
       "      <td>NaN</td>\n",
       "      <td>-3.90</td>\n",
       "      <td>-3.88</td>\n",
       "      <td>-3.87</td>\n",
       "      <td>-3.86</td>\n",
       "    </tr>\n",
       "    <tr>\n",
       "      <th>10</th>\n",
       "      <td>NaN</td>\n",
       "      <td>NaN</td>\n",
       "      <td>NaN</td>\n",
       "      <td>NaN</td>\n",
       "      <td>-3.83</td>\n",
       "      <td>-3.81</td>\n",
       "      <td>-3.80</td>\n",
       "    </tr>\n",
       "  </tbody>\n",
       "</table>\n",
       "</div>"
      ],
      "text/plain": [
       "    293.15  298.15  303.15  308.15  313.15  318.15  323.15\n",
       "0      NaN   -4.87   -4.65   -4.61   -4.63   -4.63   -4.62\n",
       "1      NaN   -4.59   -4.58   -4.56   -4.55   -4.53   -4.51\n",
       "2      NaN   -4.49   -4.47   -4.45   -4.44   -4.42   -4.40\n",
       "3      NaN   -4.39   -4.37   -4.36   -4.34   -4.31   -4.30\n",
       "4      NaN     NaN   -4.28   -4.26   -4.25   -4.23   -4.21\n",
       "5      NaN     NaN   -4.19   -4.19   -4.16   -4.15   -4.12\n",
       "6      NaN     NaN   -4.12   -4.11   -4.08   -4.07   -4.05\n",
       "7      NaN     NaN     NaN   -4.03   -4.02   -4.00   -3.98\n",
       "8      NaN     NaN     NaN   -3.97   -3.94   -3.94   -3.91\n",
       "9      NaN     NaN     NaN   -3.90   -3.88   -3.87   -3.86\n",
       "10     NaN     NaN     NaN     NaN   -3.83   -3.81   -3.80"
      ]
     },
     "execution_count": 104,
     "metadata": {},
     "output_type": "execute_result"
    }
   ],
   "source": [
    "gęstości.diff(axis=1)"
   ]
  },
  {
   "cell_type": "code",
   "execution_count": 115,
   "id": "33d75af1",
   "metadata": {},
   "outputs": [],
   "source": [
    "delta_gęstości = delta_gęstości.astype(float)\n",
    "delta_temperatury = pd.Series(delta_temperatury)\n",
    "delta_temperatury = delta_temperatury.astype(float)\n",
    "\n",
    "# Obliczenie wartości A\n",
    "A = (1 / gęstości) * (delta_gęstości.div(delta_temperatury, axis=1))"
   ]
  },
  {
   "cell_type": "code",
   "execution_count": 118,
   "id": "58141b20",
   "metadata": {},
   "outputs": [
    {
     "data": {
      "text/html": [
       "<div>\n",
       "<style scoped>\n",
       "    .dataframe tbody tr th:only-of-type {\n",
       "        vertical-align: middle;\n",
       "    }\n",
       "\n",
       "    .dataframe tbody tr th {\n",
       "        vertical-align: top;\n",
       "    }\n",
       "\n",
       "    .dataframe thead th {\n",
       "        text-align: right;\n",
       "    }\n",
       "</style>\n",
       "<table border=\"1\" class=\"dataframe\">\n",
       "  <thead>\n",
       "    <tr style=\"text-align: right;\">\n",
       "      <th></th>\n",
       "      <th>293.15</th>\n",
       "      <th>298.15</th>\n",
       "      <th>303.15</th>\n",
       "      <th>308.15</th>\n",
       "      <th>313.15</th>\n",
       "      <th>318.15</th>\n",
       "      <th>323.15</th>\n",
       "    </tr>\n",
       "  </thead>\n",
       "  <tbody>\n",
       "    <tr>\n",
       "      <th>0</th>\n",
       "      <td>NaN</td>\n",
       "      <td>-0.974</td>\n",
       "      <td>-0.930</td>\n",
       "      <td>-0.922</td>\n",
       "      <td>-0.926</td>\n",
       "      <td>-0.926</td>\n",
       "      <td>-0.924</td>\n",
       "    </tr>\n",
       "    <tr>\n",
       "      <th>1</th>\n",
       "      <td>NaN</td>\n",
       "      <td>-0.918</td>\n",
       "      <td>-0.916</td>\n",
       "      <td>-0.912</td>\n",
       "      <td>-0.910</td>\n",
       "      <td>-0.906</td>\n",
       "      <td>-0.902</td>\n",
       "    </tr>\n",
       "    <tr>\n",
       "      <th>2</th>\n",
       "      <td>NaN</td>\n",
       "      <td>-0.898</td>\n",
       "      <td>-0.894</td>\n",
       "      <td>-0.890</td>\n",
       "      <td>-0.888</td>\n",
       "      <td>-0.884</td>\n",
       "      <td>-0.880</td>\n",
       "    </tr>\n",
       "    <tr>\n",
       "      <th>3</th>\n",
       "      <td>NaN</td>\n",
       "      <td>-0.878</td>\n",
       "      <td>-0.874</td>\n",
       "      <td>-0.872</td>\n",
       "      <td>-0.868</td>\n",
       "      <td>-0.862</td>\n",
       "      <td>-0.860</td>\n",
       "    </tr>\n",
       "    <tr>\n",
       "      <th>4</th>\n",
       "      <td>NaN</td>\n",
       "      <td>NaN</td>\n",
       "      <td>-0.856</td>\n",
       "      <td>-0.852</td>\n",
       "      <td>-0.850</td>\n",
       "      <td>-0.846</td>\n",
       "      <td>-0.842</td>\n",
       "    </tr>\n",
       "    <tr>\n",
       "      <th>5</th>\n",
       "      <td>NaN</td>\n",
       "      <td>NaN</td>\n",
       "      <td>-0.838</td>\n",
       "      <td>-0.838</td>\n",
       "      <td>-0.832</td>\n",
       "      <td>-0.830</td>\n",
       "      <td>-0.824</td>\n",
       "    </tr>\n",
       "    <tr>\n",
       "      <th>6</th>\n",
       "      <td>NaN</td>\n",
       "      <td>NaN</td>\n",
       "      <td>NaN</td>\n",
       "      <td>NaN</td>\n",
       "      <td>NaN</td>\n",
       "      <td>NaN</td>\n",
       "      <td>NaN</td>\n",
       "    </tr>\n",
       "    <tr>\n",
       "      <th>7</th>\n",
       "      <td>NaN</td>\n",
       "      <td>NaN</td>\n",
       "      <td>NaN</td>\n",
       "      <td>NaN</td>\n",
       "      <td>NaN</td>\n",
       "      <td>NaN</td>\n",
       "      <td>NaN</td>\n",
       "    </tr>\n",
       "    <tr>\n",
       "      <th>8</th>\n",
       "      <td>NaN</td>\n",
       "      <td>NaN</td>\n",
       "      <td>NaN</td>\n",
       "      <td>NaN</td>\n",
       "      <td>NaN</td>\n",
       "      <td>NaN</td>\n",
       "      <td>NaN</td>\n",
       "    </tr>\n",
       "    <tr>\n",
       "      <th>9</th>\n",
       "      <td>NaN</td>\n",
       "      <td>NaN</td>\n",
       "      <td>NaN</td>\n",
       "      <td>NaN</td>\n",
       "      <td>NaN</td>\n",
       "      <td>NaN</td>\n",
       "      <td>NaN</td>\n",
       "    </tr>\n",
       "    <tr>\n",
       "      <th>10</th>\n",
       "      <td>NaN</td>\n",
       "      <td>NaN</td>\n",
       "      <td>NaN</td>\n",
       "      <td>NaN</td>\n",
       "      <td>NaN</td>\n",
       "      <td>NaN</td>\n",
       "      <td>NaN</td>\n",
       "    </tr>\n",
       "  </tbody>\n",
       "</table>\n",
       "</div>"
      ],
      "text/plain": [
       "    293.15  298.15  303.15  308.15  313.15  318.15  323.15\n",
       "0      NaN  -0.974  -0.930  -0.922  -0.926  -0.926  -0.924\n",
       "1      NaN  -0.918  -0.916  -0.912  -0.910  -0.906  -0.902\n",
       "2      NaN  -0.898  -0.894  -0.890  -0.888  -0.884  -0.880\n",
       "3      NaN  -0.878  -0.874  -0.872  -0.868  -0.862  -0.860\n",
       "4      NaN     NaN  -0.856  -0.852  -0.850  -0.846  -0.842\n",
       "5      NaN     NaN  -0.838  -0.838  -0.832  -0.830  -0.824\n",
       "6      NaN     NaN     NaN     NaN     NaN     NaN     NaN\n",
       "7      NaN     NaN     NaN     NaN     NaN     NaN     NaN\n",
       "8      NaN     NaN     NaN     NaN     NaN     NaN     NaN\n",
       "9      NaN     NaN     NaN     NaN     NaN     NaN     NaN\n",
       "10     NaN     NaN     NaN     NaN     NaN     NaN     NaN"
      ]
     },
     "execution_count": 118,
     "metadata": {},
     "output_type": "execute_result"
    }
   ],
   "source": [
    "delta_gęstości.div(delta_temperatury, axis=0)"
   ]
  },
  {
   "cell_type": "code",
   "execution_count": 111,
   "id": "b443b0b9",
   "metadata": {},
   "outputs": [
    {
     "data": {
      "text/html": [
       "<div>\n",
       "<style scoped>\n",
       "    .dataframe tbody tr th:only-of-type {\n",
       "        vertical-align: middle;\n",
       "    }\n",
       "\n",
       "    .dataframe tbody tr th {\n",
       "        vertical-align: top;\n",
       "    }\n",
       "\n",
       "    .dataframe thead th {\n",
       "        text-align: right;\n",
       "    }\n",
       "</style>\n",
       "<table border=\"1\" class=\"dataframe\">\n",
       "  <thead>\n",
       "    <tr style=\"text-align: right;\">\n",
       "      <th></th>\n",
       "      <th>293.15</th>\n",
       "      <th>298.15</th>\n",
       "      <th>303.15</th>\n",
       "      <th>308.15</th>\n",
       "      <th>313.15</th>\n",
       "      <th>318.15</th>\n",
       "      <th>323.15</th>\n",
       "    </tr>\n",
       "  </thead>\n",
       "  <tbody>\n",
       "    <tr>\n",
       "      <th>0</th>\n",
       "      <td>NaN</td>\n",
       "      <td>-0.000672</td>\n",
       "      <td>-0.000644</td>\n",
       "      <td>-0.000641</td>\n",
       "      <td>-0.000646</td>\n",
       "      <td>-0.000648</td>\n",
       "      <td>-0.000648</td>\n",
       "    </tr>\n",
       "    <tr>\n",
       "      <th>1</th>\n",
       "      <td>NaN</td>\n",
       "      <td>-0.000631</td>\n",
       "      <td>-0.000631</td>\n",
       "      <td>-0.000630</td>\n",
       "      <td>-0.000631</td>\n",
       "      <td>-0.000630</td>\n",
       "      <td>-0.000629</td>\n",
       "    </tr>\n",
       "    <tr>\n",
       "      <th>2</th>\n",
       "      <td>NaN</td>\n",
       "      <td>-0.000614</td>\n",
       "      <td>-0.000613</td>\n",
       "      <td>-0.000612</td>\n",
       "      <td>-0.000613</td>\n",
       "      <td>-0.000612</td>\n",
       "      <td>-0.000611</td>\n",
       "    </tr>\n",
       "    <tr>\n",
       "      <th>3</th>\n",
       "      <td>NaN</td>\n",
       "      <td>-0.000598</td>\n",
       "      <td>-0.000597</td>\n",
       "      <td>-0.000597</td>\n",
       "      <td>-0.000596</td>\n",
       "      <td>-0.000594</td>\n",
       "      <td>-0.000594</td>\n",
       "    </tr>\n",
       "    <tr>\n",
       "      <th>4</th>\n",
       "      <td>NaN</td>\n",
       "      <td>NaN</td>\n",
       "      <td>-0.000582</td>\n",
       "      <td>-0.000581</td>\n",
       "      <td>-0.000581</td>\n",
       "      <td>-0.000580</td>\n",
       "      <td>-0.000579</td>\n",
       "    </tr>\n",
       "    <tr>\n",
       "      <th>5</th>\n",
       "      <td>NaN</td>\n",
       "      <td>NaN</td>\n",
       "      <td>-0.000567</td>\n",
       "      <td>-0.000569</td>\n",
       "      <td>-0.000566</td>\n",
       "      <td>-0.000567</td>\n",
       "      <td>-0.000564</td>\n",
       "    </tr>\n",
       "    <tr>\n",
       "      <th>6</th>\n",
       "      <td>NaN</td>\n",
       "      <td>NaN</td>\n",
       "      <td>NaN</td>\n",
       "      <td>NaN</td>\n",
       "      <td>NaN</td>\n",
       "      <td>NaN</td>\n",
       "      <td>NaN</td>\n",
       "    </tr>\n",
       "    <tr>\n",
       "      <th>7</th>\n",
       "      <td>NaN</td>\n",
       "      <td>NaN</td>\n",
       "      <td>NaN</td>\n",
       "      <td>NaN</td>\n",
       "      <td>NaN</td>\n",
       "      <td>NaN</td>\n",
       "      <td>NaN</td>\n",
       "    </tr>\n",
       "    <tr>\n",
       "      <th>8</th>\n",
       "      <td>NaN</td>\n",
       "      <td>NaN</td>\n",
       "      <td>NaN</td>\n",
       "      <td>NaN</td>\n",
       "      <td>NaN</td>\n",
       "      <td>NaN</td>\n",
       "      <td>NaN</td>\n",
       "    </tr>\n",
       "    <tr>\n",
       "      <th>9</th>\n",
       "      <td>NaN</td>\n",
       "      <td>NaN</td>\n",
       "      <td>NaN</td>\n",
       "      <td>NaN</td>\n",
       "      <td>NaN</td>\n",
       "      <td>NaN</td>\n",
       "      <td>NaN</td>\n",
       "    </tr>\n",
       "    <tr>\n",
       "      <th>10</th>\n",
       "      <td>NaN</td>\n",
       "      <td>NaN</td>\n",
       "      <td>NaN</td>\n",
       "      <td>NaN</td>\n",
       "      <td>NaN</td>\n",
       "      <td>NaN</td>\n",
       "      <td>NaN</td>\n",
       "    </tr>\n",
       "  </tbody>\n",
       "</table>\n",
       "</div>"
      ],
      "text/plain": [
       "    293.15    298.15    303.15    308.15    313.15    318.15    323.15\n",
       "0      NaN -0.000672 -0.000644 -0.000641 -0.000646 -0.000648 -0.000648\n",
       "1      NaN -0.000631 -0.000631 -0.000630 -0.000631 -0.000630 -0.000629\n",
       "2      NaN -0.000614 -0.000613 -0.000612 -0.000613 -0.000612 -0.000611\n",
       "3      NaN -0.000598 -0.000597 -0.000597 -0.000596 -0.000594 -0.000594\n",
       "4      NaN       NaN -0.000582 -0.000581 -0.000581 -0.000580 -0.000579\n",
       "5      NaN       NaN -0.000567 -0.000569 -0.000566 -0.000567 -0.000564\n",
       "6      NaN       NaN       NaN       NaN       NaN       NaN       NaN\n",
       "7      NaN       NaN       NaN       NaN       NaN       NaN       NaN\n",
       "8      NaN       NaN       NaN       NaN       NaN       NaN       NaN\n",
       "9      NaN       NaN       NaN       NaN       NaN       NaN       NaN\n",
       "10     NaN       NaN       NaN       NaN       NaN       NaN       NaN"
      ]
     },
     "execution_count": 111,
     "metadata": {},
     "output_type": "execute_result"
    }
   ],
   "source": [
    "A"
   ]
  },
  {
   "cell_type": "code",
   "execution_count": 97,
   "id": "b7dce78e",
   "metadata": {},
   "outputs": [],
   "source": [
    "temp_values = temperatury.to_list()\n",
    "temp_diffs = [temp_values[i] - temp_values[i-1] for i in range(1, len(temp_values))]"
   ]
  },
  {
   "cell_type": "code",
   "execution_count": 98,
   "id": "8a4cd525",
   "metadata": {},
   "outputs": [
    {
     "data": {
      "text/plain": [
       "[5.0, 5.0, 5.0, 5.0, 5.0, 5.0]"
      ]
     },
     "execution_count": 98,
     "metadata": {},
     "output_type": "execute_result"
    }
   ],
   "source": [
    "temp_diffs"
   ]
  },
  {
   "cell_type": "code",
   "execution_count": 95,
   "id": "84d96980",
   "metadata": {},
   "outputs": [
    {
     "data": {
      "text/html": [
       "<div>\n",
       "<style scoped>\n",
       "    .dataframe tbody tr th:only-of-type {\n",
       "        vertical-align: middle;\n",
       "    }\n",
       "\n",
       "    .dataframe tbody tr th {\n",
       "        vertical-align: top;\n",
       "    }\n",
       "\n",
       "    .dataframe thead th {\n",
       "        text-align: right;\n",
       "    }\n",
       "</style>\n",
       "<table border=\"1\" class=\"dataframe\">\n",
       "  <thead>\n",
       "    <tr style=\"text-align: right;\">\n",
       "      <th></th>\n",
       "      <th>298.15</th>\n",
       "      <th>303.15</th>\n",
       "    </tr>\n",
       "  </thead>\n",
       "  <tbody>\n",
       "    <tr>\n",
       "      <th>0</th>\n",
       "      <td>3</td>\n",
       "      <td>3</td>\n",
       "    </tr>\n",
       "    <tr>\n",
       "      <th>1</th>\n",
       "      <td>3</td>\n",
       "      <td>3</td>\n",
       "    </tr>\n",
       "    <tr>\n",
       "      <th>2</th>\n",
       "      <td>3</td>\n",
       "      <td>3</td>\n",
       "    </tr>\n",
       "  </tbody>\n",
       "</table>\n",
       "</div>"
      ],
      "text/plain": [
       "   298.15  303.15\n",
       "0       3       3\n",
       "1       3       3\n",
       "2       3       3"
      ]
     },
     "execution_count": 95,
     "metadata": {},
     "output_type": "execute_result"
    }
   ],
   "source": [
    "diffs"
   ]
  },
  {
   "cell_type": "code",
   "execution_count": 81,
   "id": "980f8983",
   "metadata": {},
   "outputs": [
    {
     "ename": "ValueError",
     "evalue": "cannot set a row with mismatched columns",
     "output_type": "error",
     "traceback": [
      "\u001b[1;31m---------------------------------------------------------------------------\u001b[0m",
      "\u001b[1;31mValueError\u001b[0m                                Traceback (most recent call last)",
      "Input \u001b[1;32mIn [81]\u001b[0m, in \u001b[0;36m<cell line: 34>\u001b[1;34m()\u001b[0m\n\u001b[0;32m     31\u001b[0m kt_df \u001b[38;5;241m=\u001b[39m pd\u001b[38;5;241m.\u001b[39mDataFrame(kt, columns\u001b[38;5;241m=\u001b[39mtemp_cols[:\u001b[38;5;241m-\u001b[39m\u001b[38;5;241m1\u001b[39m])\n\u001b[0;32m     33\u001b[0m \u001b[38;5;66;03m# Dodanie pierwszego wiersza z wartościami numerycznymi\u001b[39;00m\n\u001b[1;32m---> 34\u001b[0m kt_df\u001b[38;5;241m.\u001b[39mloc[\u001b[38;5;241m-\u001b[39m\u001b[38;5;241m1\u001b[39m] \u001b[38;5;241m=\u001b[39m df\u001b[38;5;241m.\u001b[39mloc[\u001b[38;5;241m0\u001b[39m, temp_cols]\u001b[38;5;241m.\u001b[39mvalues \u001b[38;5;241m/\u001b[39m df\u001b[38;5;241m.\u001b[39mloc[\u001b[38;5;241m0\u001b[39m, \u001b[38;5;124m'\u001b[39m\u001b[38;5;124mp\u001b[39m\u001b[38;5;124m'\u001b[39m] \u001b[38;5;241m/\u001b[39m \u001b[38;5;241m1e6\u001b[39m\n\u001b[0;32m     35\u001b[0m kt_df\u001b[38;5;241m.\u001b[39mindex \u001b[38;5;241m+\u001b[39m\u001b[38;5;241m=\u001b[39m \u001b[38;5;241m1\u001b[39m  \u001b[38;5;66;03m# Przesunięcie indeksów w górę\u001b[39;00m\n\u001b[0;32m     36\u001b[0m kt_df \u001b[38;5;241m=\u001b[39m kt_df\u001b[38;5;241m.\u001b[39msort_index()  \u001b[38;5;66;03m# Sortowanie wierszy względem indeksów\u001b[39;00m\n",
      "File \u001b[1;32mE:\\Anaconda\\lib\\site-packages\\pandas\\core\\indexing.py:716\u001b[0m, in \u001b[0;36m_LocationIndexer.__setitem__\u001b[1;34m(self, key, value)\u001b[0m\n\u001b[0;32m    713\u001b[0m \u001b[38;5;28mself\u001b[39m\u001b[38;5;241m.\u001b[39m_has_valid_setitem_indexer(key)\n\u001b[0;32m    715\u001b[0m iloc \u001b[38;5;241m=\u001b[39m \u001b[38;5;28mself\u001b[39m \u001b[38;5;28;01mif\u001b[39;00m \u001b[38;5;28mself\u001b[39m\u001b[38;5;241m.\u001b[39mname \u001b[38;5;241m==\u001b[39m \u001b[38;5;124m\"\u001b[39m\u001b[38;5;124miloc\u001b[39m\u001b[38;5;124m\"\u001b[39m \u001b[38;5;28;01melse\u001b[39;00m \u001b[38;5;28mself\u001b[39m\u001b[38;5;241m.\u001b[39mobj\u001b[38;5;241m.\u001b[39miloc\n\u001b[1;32m--> 716\u001b[0m \u001b[43miloc\u001b[49m\u001b[38;5;241;43m.\u001b[39;49m\u001b[43m_setitem_with_indexer\u001b[49m\u001b[43m(\u001b[49m\u001b[43mindexer\u001b[49m\u001b[43m,\u001b[49m\u001b[43m \u001b[49m\u001b[43mvalue\u001b[49m\u001b[43m,\u001b[49m\u001b[43m \u001b[49m\u001b[38;5;28;43mself\u001b[39;49m\u001b[38;5;241;43m.\u001b[39;49m\u001b[43mname\u001b[49m\u001b[43m)\u001b[49m\n",
      "File \u001b[1;32mE:\\Anaconda\\lib\\site-packages\\pandas\\core\\indexing.py:1682\u001b[0m, in \u001b[0;36m_iLocIndexer._setitem_with_indexer\u001b[1;34m(self, indexer, value, name)\u001b[0m\n\u001b[0;32m   1679\u001b[0m     indexer, missing \u001b[38;5;241m=\u001b[39m convert_missing_indexer(indexer)\n\u001b[0;32m   1681\u001b[0m     \u001b[38;5;28;01mif\u001b[39;00m missing:\n\u001b[1;32m-> 1682\u001b[0m         \u001b[38;5;28;43mself\u001b[39;49m\u001b[38;5;241;43m.\u001b[39;49m\u001b[43m_setitem_with_indexer_missing\u001b[49m\u001b[43m(\u001b[49m\u001b[43mindexer\u001b[49m\u001b[43m,\u001b[49m\u001b[43m \u001b[49m\u001b[43mvalue\u001b[49m\u001b[43m)\u001b[49m\n\u001b[0;32m   1683\u001b[0m         \u001b[38;5;28;01mreturn\u001b[39;00m\n\u001b[0;32m   1685\u001b[0m \u001b[38;5;66;03m# align and set the values\u001b[39;00m\n",
      "File \u001b[1;32mE:\\Anaconda\\lib\\site-packages\\pandas\\core\\indexing.py:1998\u001b[0m, in \u001b[0;36m_iLocIndexer._setitem_with_indexer_missing\u001b[1;34m(self, indexer, value)\u001b[0m\n\u001b[0;32m   1995\u001b[0m     \u001b[38;5;28;01mif\u001b[39;00m is_list_like_indexer(value):\n\u001b[0;32m   1996\u001b[0m         \u001b[38;5;66;03m# must have conforming columns\u001b[39;00m\n\u001b[0;32m   1997\u001b[0m         \u001b[38;5;28;01mif\u001b[39;00m \u001b[38;5;28mlen\u001b[39m(value) \u001b[38;5;241m!=\u001b[39m \u001b[38;5;28mlen\u001b[39m(\u001b[38;5;28mself\u001b[39m\u001b[38;5;241m.\u001b[39mobj\u001b[38;5;241m.\u001b[39mcolumns):\n\u001b[1;32m-> 1998\u001b[0m             \u001b[38;5;28;01mraise\u001b[39;00m \u001b[38;5;167;01mValueError\u001b[39;00m(\u001b[38;5;124m\"\u001b[39m\u001b[38;5;124mcannot set a row with mismatched columns\u001b[39m\u001b[38;5;124m\"\u001b[39m)\n\u001b[0;32m   2000\u001b[0m     value \u001b[38;5;241m=\u001b[39m Series(value, index\u001b[38;5;241m=\u001b[39m\u001b[38;5;28mself\u001b[39m\u001b[38;5;241m.\u001b[39mobj\u001b[38;5;241m.\u001b[39mcolumns, name\u001b[38;5;241m=\u001b[39mindexer)\n\u001b[0;32m   2002\u001b[0m \u001b[38;5;28;01mif\u001b[39;00m \u001b[38;5;129;01mnot\u001b[39;00m \u001b[38;5;28mlen\u001b[39m(\u001b[38;5;28mself\u001b[39m\u001b[38;5;241m.\u001b[39mobj):\n\u001b[0;32m   2003\u001b[0m     \u001b[38;5;66;03m# We will ignore the existing dtypes instead of using\u001b[39;00m\n\u001b[0;32m   2004\u001b[0m     \u001b[38;5;66;03m#  internals.concat logic\u001b[39;00m\n",
      "\u001b[1;31mValueError\u001b[0m: cannot set a row with mismatched columns"
     ]
    }
   ],
   "source": [
    "# Pobranie wartości temperatur\n",
    "temp_cols = [col for col in df.columns if col != 'p']\n",
    "\n",
    "# Inicjalizacja listy wynikowej\n",
    "kt = []\n",
    "\n",
    "# Iteracja po wierszach (ciśnieniach)\n",
    "for i in range(len(df)):\n",
    "    # Pobranie wartości ciśnienia w wierszu i utworzenie listy gęstości\n",
    "    cisnienie = df.loc[i, 'p']\n",
    "    gestosci = df.loc[i, temp_cols].tolist()\n",
    "    \n",
    "    # Inicjalizacja listy wynikowej dla danego wiersza\n",
    "    kt_row = []\n",
    "    \n",
    "    # Iteracja po parach sąsiednich gęstości\n",
    "    for j in range(len(gestosci)-1):\n",
    "        # Pobranie gęstości z par sąsiednich wartości\n",
    "        dens1, dens2 = gestosci[j], gestosci[j+1]\n",
    "        \n",
    "        # Obliczenie współczynnika Kt dla pary gęstości\n",
    "        kt_pair = 1/dens1 * (dens2 - dens1)/(cisnienie*1e6)\n",
    "        \n",
    "        # Dodanie wyniku do listy wynikowej dla wiersza\n",
    "        kt_row.append(kt_pair)\n",
    "    \n",
    "    # Dodanie listy wynikowej dla wiersza do listy wynikowej ogólnej\n",
    "    kt.append(kt_row)\n",
    "\n",
    "# Utworzenie obiektu DataFrame z listy wynikowej\n",
    "kt_df = pd.DataFrame(kt, columns=temp_cols[:-1])\n",
    "\n",
    "# Dodanie pierwszego wiersza z wartościami numerycznymi\n",
    "kt_df.loc[-1] = df.loc[0, temp_cols].values / df.loc[0, 'p'] / 1e6\n",
    "kt_df.index += 1  # Przesunięcie indeksów w górę\n",
    "kt_df = kt_df.sort_index()  # Sortowanie wierszy względem indeksów\n",
    "\n",
    "# Wyświetlenie wyniku\n",
    "print(kt_df)"
   ]
  },
  {
   "cell_type": "code",
   "execution_count": 125,
   "id": "ec05e195",
   "metadata": {},
   "outputs": [
    {
     "data": {
      "text/plain": [
       "531.8"
      ]
     },
     "execution_count": 125,
     "metadata": {},
     "output_type": "execute_result"
    }
   ],
   "source": [
    "dR = 1063.85 - 1070.10\n",
    "dT = 283.15-273.15\n",
    "531.8"
   ]
  },
  {
   "cell_type": "code",
   "execution_count": 126,
   "id": "93cb6849",
   "metadata": {},
   "outputs": [
    {
     "data": {
      "text/plain": [
       "587.4888377120834"
      ]
     },
     "execution_count": 126,
     "metadata": {},
     "output_type": "execute_result"
    }
   ],
   "source": [
    "-(1/1063.85)*((dR)/(dT))*1e6"
   ]
  },
  {
   "cell_type": "code",
   "execution_count": 1,
   "id": "540c37c0",
   "metadata": {},
   "outputs": [
    {
     "name": "stdout",
     "output_type": "stream",
     "text": [
      "0    NaN\n",
      "1    3.0\n",
      "2    5.0\n",
      "3    7.0\n",
      "4    9.0\n",
      "dtype: float64\n"
     ]
    }
   ],
   "source": [
    "import pandas as pd\n",
    "\n",
    "# przykładowe dane\n",
    "df = pd.DataFrame({'X': [1, 2, 3, 4, 5], 'y': [1, 4, 9, 16, 25]})\n",
    "\n",
    "# obliczanie numerycznej pochodnej y względem X\n",
    "diff_y = df['y'].diff()\n",
    "diff_x = df['X'].diff().fillna(method='bfill') # uzupełniamy brakującą wartość\n",
    "diff_y_over_diff_x = diff_y / diff_x\n",
    "\n",
    "print(diff_y_over_diff_x)"
   ]
  },
  {
   "cell_type": "code",
   "execution_count": 2,
   "id": "493a63a7",
   "metadata": {},
   "outputs": [
    {
     "name": "stdout",
     "output_type": "stream",
     "text": [
      "   X  dy/dx\n",
      "0  1    3.0\n",
      "1  2    5.0\n",
      "2  3    7.0\n",
      "3  4    9.0\n"
     ]
    }
   ],
   "source": [
    "import pandas as pd\n",
    "\n",
    "# przykładowe dane\n",
    "df = pd.DataFrame({'X': [1, 2, 3, 4, 5], 'y': [1, 4, 9, 16, 25]})\n",
    "\n",
    "# obliczanie numerycznej pochodnej y względem X\n",
    "h = 1  # krok\n",
    "diff_y = (df['y'].shift(-1) - df['y'])[:-1] / h\n",
    "diff_x = df['X'][:-1]\n",
    "\n",
    "# łączenie wyników w jednym dataframe\n",
    "result_df = pd.DataFrame({'X': diff_x, 'dy/dx': diff_y})\n",
    "\n",
    "print(result_df)"
   ]
  },
  {
   "cell_type": "code",
   "execution_count": 3,
   "id": "4de88b67",
   "metadata": {},
   "outputs": [
    {
     "name": "stdout",
     "output_type": "stream",
     "text": [
      "   X  dy/dx\n",
      "0  1    3.0\n",
      "1  2    5.0\n",
      "2  3    7.0\n",
      "3  4    9.0\n"
     ]
    }
   ],
   "source": [
    "import pandas as pd\n",
    "\n",
    "# przykładowe dane\n",
    "df = pd.DataFrame({'X': [1, 2, 3, 4, 5], 'y': [1, 4, 9, 16, 25]})\n",
    "\n",
    "# obliczanie numerycznej pochodnej y względem X\n",
    "h = 1  # krok\n",
    "diff_y = (df['y'].shift(-1) - df['y'])[:-1] / h\n",
    "diff_x = df['X'][:-1]\n",
    "\n",
    "# łączenie wyników w jednym dataframe\n",
    "result_df = pd.DataFrame({'X': diff_x, 'dy/dx': diff_y})\n",
    "\n",
    "print(result_df)"
   ]
  },
  {
   "cell_type": "code",
   "execution_count": 8,
   "id": "d1cfecb7",
   "metadata": {},
   "outputs": [],
   "source": [
    "import numpy as np\n",
    "x = np.arange(0,4,1)\n",
    "y = x**2"
   ]
  },
  {
   "cell_type": "code",
   "execution_count": 9,
   "id": "62d082f0",
   "metadata": {},
   "outputs": [
    {
     "data": {
      "text/plain": [
       "array([0, 1, 4, 9], dtype=int32)"
      ]
     },
     "execution_count": 9,
     "metadata": {},
     "output_type": "execute_result"
    }
   ],
   "source": [
    "y"
   ]
  },
  {
   "cell_type": "code",
   "execution_count": 10,
   "id": "bb19d894",
   "metadata": {},
   "outputs": [
    {
     "data": {
      "text/plain": [
       "array([1., 2., 4., 5.])"
      ]
     },
     "execution_count": 10,
     "metadata": {},
     "output_type": "execute_result"
    }
   ],
   "source": [
    "dy = np.gradient(y)\n",
    "dx = np.gradient(x)\n",
    " \n",
    "d = dy/dx\n",
    "d"
   ]
  },
  {
   "cell_type": "code",
   "execution_count": 11,
   "id": "b065a766",
   "metadata": {},
   "outputs": [
    {
     "data": {
      "text/plain": [
       "array([1., 2., 4., 5.])"
      ]
     },
     "execution_count": 11,
     "metadata": {},
     "output_type": "execute_result"
    }
   ],
   "source": [
    "dy"
   ]
  },
  {
   "cell_type": "code",
   "execution_count": 12,
   "id": "702c8082",
   "metadata": {},
   "outputs": [
    {
     "data": {
      "text/plain": [
       "array([1., 1., 1., 1.])"
      ]
     },
     "execution_count": 12,
     "metadata": {},
     "output_type": "execute_result"
    }
   ],
   "source": [
    "dx"
   ]
  },
  {
   "cell_type": "code",
   "execution_count": 13,
   "id": "71d2a543",
   "metadata": {},
   "outputs": [],
   "source": [
    "import numpy.polynomial.polynomial as poly"
   ]
  },
  {
   "cell_type": "code",
   "execution_count": 14,
   "id": "1935ad44",
   "metadata": {},
   "outputs": [
    {
     "name": "stdout",
     "output_type": "stream",
     "text": [
      "   X  dy/dx\n",
      "0  1    3.0\n",
      "1  2    5.0\n",
      "2  3    7.0\n",
      "3  4    9.0\n",
      "4  5    NaN\n"
     ]
    }
   ],
   "source": [
    "import pandas as pd\n",
    "\n",
    "# dane\n",
    "x = [1, 2, 3, 4, 5]\n",
    "y = [1, 4, 9, 16, 25]\n",
    "\n",
    "# krok\n",
    "h = x[1] - x[0]\n",
    "\n",
    "# obliczenie pochodnych jednostronnych dla każdego punktu x\n",
    "dydx = []\n",
    "for i in range(len(x)-1):\n",
    "    dydx_i = (y[i+1] - y[i]) / h\n",
    "    dydx.append(dydx_i)\n",
    "dydx.append(None)\n",
    "\n",
    "# wynik w postaci ramki danych\n",
    "df = pd.DataFrame({'X': x, 'dy/dx': dydx})\n",
    "print(df)"
   ]
  },
  {
   "cell_type": "code",
   "execution_count": 15,
   "id": "30c0451a",
   "metadata": {},
   "outputs": [
    {
     "name": "stdout",
     "output_type": "stream",
     "text": [
      "   X  dy/dx\n",
      "0  1    NaN\n",
      "1  2    4.0\n",
      "2  3    6.0\n",
      "3  4    8.0\n",
      "4  5    NaN\n"
     ]
    }
   ],
   "source": [
    "import pandas as pd\n",
    "\n",
    "# dane\n",
    "x = [1, 2, 3, 4, 5]\n",
    "y = [1, 4, 9, 16, 25]\n",
    "\n",
    "# krok\n",
    "h = x[1] - x[0]\n",
    "\n",
    "# obliczenie pochodnych symetrycznych dla każdego punktu x\n",
    "dydx = [None]\n",
    "for i in range(1, len(x)-1):\n",
    "    dydx_i = (y[i+1] - y[i-1]) / (2*h)\n",
    "    dydx.append(dydx_i)\n",
    "dydx.append(None)\n",
    "\n",
    "# wynik w postaci ramki danych\n",
    "df = pd.DataFrame({'X': x, 'dy/dx': dydx})\n",
    "print(df)"
   ]
  },
  {
   "cell_type": "code",
   "execution_count": 16,
   "id": "51121a94",
   "metadata": {},
   "outputs": [],
   "source": [
    "x = [293.15\t,298.15\t,303.15,\t308.15\t,313.15\t318.15,\t323.15\n",
    "]"
   ]
  },
  {
   "cell_type": "code",
   "execution_count": 32,
   "id": "a4156ab7",
   "metadata": {},
   "outputs": [],
   "source": [
    "y = [1387.69,1383.14,1378.62,1374.12,1369.64,1365.18,1360.73]"
   ]
  },
  {
   "cell_type": "code",
   "execution_count": 33,
   "id": "79dad833",
   "metadata": {},
   "outputs": [
    {
     "name": "stdout",
     "output_type": "stream",
     "text": [
      "   X  dy/dx  (1/y)*(dy/dx)\n",
      "0  1  -4.55      -0.003279\n",
      "1  2  -4.52      -0.003268\n",
      "2  3  -4.50      -0.003264\n",
      "3  4  -4.48      -0.003260\n",
      "4  5    NaN            NaN\n"
     ]
    }
   ],
   "source": [
    "# obliczenie pochodnych jednostronnych dla każdego punktu x\n",
    "# krok\n",
    "h = x[1] - x[0]\n",
    "\n",
    "# obliczenie pochodnych jednostronnych dla każdego punktu x\n",
    "dydx = []\n",
    "for i in range(len(x)-1):\n",
    "    dydx_i = (y[i+1] - y[i]) / h\n",
    "    dydx.append(dydx_i)\n",
    "dydx.append(None)\n",
    "\n",
    "# obliczenie (1/y) * dydx\n",
    "inv_y = [1 / yi for yi in y]\n",
    "inv_y_dydx = [inv_y[i] * dydx[i] if dydx[i] is not None else None for i in range(len(dydx))]\n",
    "\n",
    "# wynik w postaci ramki danych\n",
    "df = pd.DataFrame({'X': x, 'dy/dx': dydx, '(1/y)*(dy/dx)': inv_y_dydx})\n",
    "print(df)"
   ]
  },
  {
   "cell_type": "code",
   "execution_count": 21,
   "id": "293c51e1",
   "metadata": {},
   "outputs": [
    {
     "name": "stdout",
     "output_type": "stream",
     "text": [
      "Object `excelu` not found.\n"
     ]
    }
   ],
   "source": [
    "\n",
    "    "
   ]
  },
  {
   "cell_type": "code",
   "execution_count": 22,
   "id": "30618436",
   "metadata": {},
   "outputs": [
    {
     "name": "stdout",
     "output_type": "stream",
     "text": [
      "   x   y  dy_fwd  dy_bwd  dy_sym\n",
      "0  1   1     NaN    -3.0     NaN\n",
      "1  2   4     3.0    -5.0    -1.0\n",
      "2  3   9     5.0    -7.0    -1.0\n",
      "3  4  16     7.0     NaN     NaN\n"
     ]
    }
   ],
   "source": [
    "import pandas as pd\n",
    "\n",
    "def numerical_diff(df):\n",
    "    dx = df['x'].diff()\n",
    "    dy_fwd = df['y'].diff()\n",
    "    dy_fwd.name = 'dy_fwd'\n",
    "    dy_bwd = df['y'].diff(periods=-1)\n",
    "    dy_bwd.name = 'dy_bwd'\n",
    "    dy_sym = (df['y'].diff(periods=-1) + df['y'].diff()) / (2 * dx)\n",
    "    dy_sym.name = 'dy_sym'\n",
    "    df_diff = pd.concat([dy_fwd, dy_bwd, dy_sym], axis=1)\n",
    "    return df_diff\n",
    "\n",
    "# przykładowa ramka danych\n",
    "df = pd.DataFrame({'x': [1, 2, 3, 4], 'y': [1, 4, 9, 16]})\n",
    "\n",
    "# obliczenie numerycznych pochodnych\n",
    "df_diff = numerical_diff(df)\n",
    "\n",
    "# połączenie ramki danych z pochodnymi z ramką danych oryginalną\n",
    "df_merged = pd.concat([df, df_diff], axis=1)\n",
    "\n",
    "# wyświetlenie wyniku\n",
    "print(df_merged)"
   ]
  },
  {
   "cell_type": "code",
   "execution_count": 45,
   "id": "b2e34d82",
   "metadata": {},
   "outputs": [],
   "source": [
    "def num_diff(y, h, x):\n",
    "    n = len(y)\n",
    "    if x == 1:\n",
    "        dydx = (y[1] - y[0]) / h\n",
    "    elif x == n:\n",
    "        dydx = (y[n-1] - y[n-2]) / h\n",
    "    else:\n",
    "        dydx = (y[x] - y[x-2]) / (2*h)\n",
    "    return dydx"
   ]
  },
  {
   "cell_type": "code",
   "execution_count": 46,
   "id": "9d4427e5",
   "metadata": {},
   "outputs": [],
   "source": [
    "y = [1, 4, 9, 16, 25]\n",
    "h = 1\n",
    "x = [1.3,2,3,4,5]"
   ]
  },
  {
   "cell_type": "code",
   "execution_count": 47,
   "id": "8d5b0c93",
   "metadata": {},
   "outputs": [
    {
     "ename": "TypeError",
     "evalue": "list indices must be integers or slices, not float",
     "output_type": "error",
     "traceback": [
      "\u001b[1;31m---------------------------------------------------------------------------\u001b[0m",
      "\u001b[1;31mTypeError\u001b[0m                                 Traceback (most recent call last)",
      "Input \u001b[1;32mIn [47]\u001b[0m, in \u001b[0;36m<cell line: 2>\u001b[1;34m()\u001b[0m\n\u001b[0;32m      1\u001b[0m dydx \u001b[38;5;241m=\u001b[39m []\n\u001b[0;32m      2\u001b[0m \u001b[38;5;28;01mfor\u001b[39;00m i \u001b[38;5;129;01min\u001b[39;00m \u001b[38;5;28mrange\u001b[39m(\u001b[38;5;28mlen\u001b[39m(x)):\n\u001b[1;32m----> 3\u001b[0m     dydx_i \u001b[38;5;241m=\u001b[39m \u001b[43mnum_diff\u001b[49m\u001b[43m(\u001b[49m\u001b[43my\u001b[49m\u001b[43m,\u001b[49m\u001b[43m \u001b[49m\u001b[43mh\u001b[49m\u001b[43m,\u001b[49m\u001b[43m \u001b[49m\u001b[43mx\u001b[49m\u001b[43m[\u001b[49m\u001b[43mi\u001b[49m\u001b[43m]\u001b[49m\u001b[43m)\u001b[49m\n\u001b[0;32m      4\u001b[0m     dydx\u001b[38;5;241m.\u001b[39mappend(dydx_i)\n\u001b[0;32m      6\u001b[0m \u001b[38;5;28mprint\u001b[39m(dydx)\n",
      "Input \u001b[1;32mIn [45]\u001b[0m, in \u001b[0;36mnum_diff\u001b[1;34m(y, h, x)\u001b[0m\n\u001b[0;32m      6\u001b[0m     dydx \u001b[38;5;241m=\u001b[39m (y[n\u001b[38;5;241m-\u001b[39m\u001b[38;5;241m1\u001b[39m] \u001b[38;5;241m-\u001b[39m y[n\u001b[38;5;241m-\u001b[39m\u001b[38;5;241m2\u001b[39m]) \u001b[38;5;241m/\u001b[39m h\n\u001b[0;32m      7\u001b[0m \u001b[38;5;28;01melse\u001b[39;00m:\n\u001b[1;32m----> 8\u001b[0m     dydx \u001b[38;5;241m=\u001b[39m (\u001b[43my\u001b[49m\u001b[43m[\u001b[49m\u001b[43mx\u001b[49m\u001b[43m]\u001b[49m \u001b[38;5;241m-\u001b[39m y[x\u001b[38;5;241m-\u001b[39m\u001b[38;5;241m2\u001b[39m]) \u001b[38;5;241m/\u001b[39m (\u001b[38;5;241m2\u001b[39m\u001b[38;5;241m*\u001b[39mh)\n\u001b[0;32m      9\u001b[0m \u001b[38;5;28;01mreturn\u001b[39;00m dydx\n",
      "\u001b[1;31mTypeError\u001b[0m: list indices must be integers or slices, not float"
     ]
    }
   ],
   "source": [
    "dydx = []\n",
    "for i in range(len(x)):\n",
    "    dydx_i = num_diff(y, h, x[i])\n",
    "    dydx.append(dydx_i)\n",
    "\n",
    "print(dydx)"
   ]
  },
  {
   "cell_type": "code",
   "execution_count": 41,
   "id": "a1fd11f5",
   "metadata": {},
   "outputs": [],
   "source": [
    "x1 = 293.15\n",
    "x2 = 298.15\n",
    "y = [1387.69,1383.14,1378.62,1374.12,1369.64,1365.18,1360.73]"
   ]
  },
  {
   "cell_type": "code",
   "execution_count": 44,
   "id": "caa576ff",
   "metadata": {},
   "outputs": [
    {
     "ename": "TypeError",
     "evalue": "list indices must be integers or slices, not float",
     "output_type": "error",
     "traceback": [
      "\u001b[1;31m---------------------------------------------------------------------------\u001b[0m",
      "\u001b[1;31mTypeError\u001b[0m                                 Traceback (most recent call last)",
      "Input \u001b[1;32mIn [44]\u001b[0m, in \u001b[0;36m<cell line: 2>\u001b[1;34m()\u001b[0m\n\u001b[0;32m      1\u001b[0m dydx1 \u001b[38;5;241m=\u001b[39m num_diff(y, h, \u001b[38;5;241m0\u001b[39m)\n\u001b[1;32m----> 2\u001b[0m dydx2 \u001b[38;5;241m=\u001b[39m \u001b[43mnum_diff\u001b[49m\u001b[43m(\u001b[49m\u001b[43my\u001b[49m\u001b[43m,\u001b[49m\u001b[43m \u001b[49m\u001b[38;5;241;43m6\u001b[39;49m\u001b[43m,\u001b[49m\u001b[43m \u001b[49m\u001b[43mx2\u001b[49m\u001b[43m)\u001b[49m\n\u001b[0;32m      3\u001b[0m \u001b[38;5;28mprint\u001b[39m(\u001b[38;5;124mf\u001b[39m\u001b[38;5;124m'\u001b[39m\u001b[38;5;124mdy/dx dla x=\u001b[39m\u001b[38;5;132;01m{\u001b[39;00mx1\u001b[38;5;132;01m}\u001b[39;00m\u001b[38;5;124m: \u001b[39m\u001b[38;5;132;01m{\u001b[39;00mdydx1\u001b[38;5;132;01m}\u001b[39;00m\u001b[38;5;124m'\u001b[39m)\n\u001b[0;32m      4\u001b[0m \u001b[38;5;28mprint\u001b[39m(\u001b[38;5;124mf\u001b[39m\u001b[38;5;124m'\u001b[39m\u001b[38;5;124mdy/dx dla x=\u001b[39m\u001b[38;5;132;01m{\u001b[39;00mx2\u001b[38;5;132;01m}\u001b[39;00m\u001b[38;5;124m: \u001b[39m\u001b[38;5;132;01m{\u001b[39;00mdydx2\u001b[38;5;132;01m}\u001b[39;00m\u001b[38;5;124m'\u001b[39m)\n",
      "Input \u001b[1;32mIn [38]\u001b[0m, in \u001b[0;36mnum_diff\u001b[1;34m(y, h, x)\u001b[0m\n\u001b[0;32m      6\u001b[0m     dydx \u001b[38;5;241m=\u001b[39m (y[n\u001b[38;5;241m-\u001b[39m\u001b[38;5;241m1\u001b[39m] \u001b[38;5;241m-\u001b[39m y[n\u001b[38;5;241m-\u001b[39m\u001b[38;5;241m2\u001b[39m]) \u001b[38;5;241m/\u001b[39m h\n\u001b[0;32m      7\u001b[0m \u001b[38;5;28;01melse\u001b[39;00m:\n\u001b[1;32m----> 8\u001b[0m     dydx \u001b[38;5;241m=\u001b[39m (\u001b[43my\u001b[49m\u001b[43m[\u001b[49m\u001b[43mx\u001b[49m\u001b[43m]\u001b[49m \u001b[38;5;241m-\u001b[39m y[x\u001b[38;5;241m-\u001b[39m\u001b[38;5;241m2\u001b[39m]) \u001b[38;5;241m/\u001b[39m (\u001b[38;5;241m2\u001b[39m\u001b[38;5;241m*\u001b[39mh)\n\u001b[0;32m      9\u001b[0m \u001b[38;5;28;01mreturn\u001b[39;00m dydx\n",
      "\u001b[1;31mTypeError\u001b[0m: list indices must be integers or slices, not float"
     ]
    }
   ],
   "source": [
    "dydx1 = num_diff(y, h, 0)\n",
    "dydx2 = num_diff(y, 6, x2)\n",
    "print(f'dy/dx dla x={x1}: {dydx1}')\n",
    "print(f'dy/dx dla x={x2}: {dydx2}')"
   ]
  },
  {
   "cell_type": "code",
   "execution_count": null,
   "id": "3f3cf90b",
   "metadata": {},
   "outputs": [],
   "source": []
  }
 ],
 "metadata": {
  "kernelspec": {
   "display_name": "Python 3 (ipykernel)",
   "language": "python",
   "name": "python3"
  },
  "language_info": {
   "codemirror_mode": {
    "name": "ipython",
    "version": 3
   },
   "file_extension": ".py",
   "mimetype": "text/x-python",
   "name": "python",
   "nbconvert_exporter": "python",
   "pygments_lexer": "ipython3",
   "version": "3.9.18"
  }
 },
 "nbformat": 4,
 "nbformat_minor": 5
}
